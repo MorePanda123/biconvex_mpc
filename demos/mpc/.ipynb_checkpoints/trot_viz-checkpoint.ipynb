{
 "cells": [
  {
   "cell_type": "code",
   "execution_count": 1,
   "metadata": {},
   "outputs": [],
   "source": [
    "# This file plays the mpc motion only in viz\n",
    "\n",
    "import time\n",
    "import numpy as np\n",
    "import pinocchio as pin\n",
    "import crocoddyl\n",
    "from matplotlib import pyplot as plt\n",
    "%matplotlib notebook \n",
    "\n",
    "from py_biconvex_mpc.motion_planner.cpp_biconvex import BiConvexMP\n",
    "from py_biconvex_mpc.ik_utils.gait_generator import GaitGenerator\n",
    "from robot_properties_solo.config import Solo12Config\n",
    "from abstract_mpc_gait_gen import SoloMpcGaitGen\n",
    "from weight_abstract import BiconvexMotionParams\n",
    "# from solo12_gait_params import trot, walk\n"
   ]
  },
  {
   "cell_type": "code",
   "execution_count": 2,
   "metadata": {},
   "outputs": [
    {
     "name": "stdout",
     "output_type": "stream",
     "text": [
      "You can open the visualizer by visiting the following URL:\n",
      "http://127.0.0.1:7007/static/\n"
     ]
    }
   ],
   "source": [
    "robot = Solo12Config.buildRobotWrapper()\n",
    "viz = pin.visualize.MeshcatVisualizer(robot.model, robot.collision_model, robot.visual_model)\n",
    "viz.initViewer(open=False)\n",
    "viz.loadViewerModel()\n",
    "pin_robot = Solo12Config.buildRobotWrapper()\n"
   ]
  },
  {
   "cell_type": "code",
   "execution_count": 3,
   "metadata": {},
   "outputs": [],
   "source": [
    "trot = BiconvexMotionParams(\"solo12\", \"Trot\")\n",
    "\n",
    "# Cnt\n",
    "trot.gait_period = 0.5\n",
    "trot.stance_percent = [0.6, 0.6, 0.6, 0.6]\n",
    "trot.gait_dt = 0.05\n",
    "trot.phase_offset = [0.0, 0.4, 0.4, 0.0]\n",
    "\n",
    "# IK\n",
    "trot.state_wt = 0*np.array([0., 0, 100] + [100] * 3 + [1.0] * (pin_robot.model.nv - 6) \\\n",
    "                        + [0.00] * 3 + [100] * 3 + [1.0] *(pin_robot.model.nv - 6))\n",
    "\n",
    "trot.ctrl_wt = [10.0] * 3 + [10, 1000, 10] + [5.0] *(pin_robot.model.nv - 6)\n",
    "\n",
    "trot.swing_wt = [0*1e4, 0*1e4]\n",
    "trot.cent_wt = [1e+2, 1e+1]\n",
    "trot.step_ht = 0.08\n",
    "trot.nom_ht = 0.22\n",
    "trot.reg_wt = [0*5e-2, 0*1e-3]\n",
    "\n",
    "# Dyn \n",
    "trot.W_X =        np.array([1e-5, 1e-5, 1e+5, 1e+2, 1e+2, 1e+3, 1e+4, 1e+4, 1e4])\n",
    "trot.W_X_ter = 10*np.array([1e+5, 1e-5, 1e+4, 1e+2, 1e+2, 1e+3, 1e+5, 1e+5, 1e+5])\n",
    "trot.W_F = np.array(4*[1e+1, 1e+1, 1e+1])\n",
    "trot.rho = 5e+4\n",
    "trot.ori_correction = [0.5, 0.0, 0.2]\n",
    "\n",
    "# Gains\n",
    "trot.kp = 3.0\n",
    "trot.kd = 0.1"
   ]
  },
  {
   "cell_type": "code",
   "execution_count": 4,
   "metadata": {},
   "outputs": [],
   "source": [
    "## Motion\n",
    "gait_params = trot\n",
    "\n",
    "## robot config and init\n",
    "urdf_path = Solo12Config.urdf_path\n",
    "gait_time = gait_params.gait_period\n",
    "dt = 5e-2\n",
    "\n",
    "n_eff = 4\n",
    "q0 = np.array(Solo12Config.initial_configuration)\n",
    "# q0[7:13] = 2 * [0.0, -0.8, 1.6]\n",
    "\n",
    "v0 = pin.utils.zero(pin_robot.model.nv)\n",
    "x0 = np.concatenate([q0, pin.utils.zero(pin_robot.model.nv)])\n",
    "\n",
    "v_des = np.array([0.2,0.0, 0])\n",
    "step_height = gait_params.step_ht\n",
    "\n",
    "plan_freq = 0.05 # sec\n",
    "update_time = 0.02 # sec (time of lag)\n",
    "\n",
    "gg = SoloMpcGaitGen(pin_robot, urdf_path, dt, gait_params, x0, plan_freq, q0)\n",
    "\n",
    "# gg.update_params(swing_wt = [1e4,1e3], cent_wt= [1e3, 1e1], nom_ht = 0.2)\n",
    "\n",
    "# while True:\n",
    "n = 1\n",
    "\n",
    "sim_t = 0.0\n",
    "step_t = 0\n",
    "sim_dt = .001\n",
    "index = 0\n",
    "\n",
    "tmp = []\n",
    "tmp_des = []\n",
    "\n",
    "# robot.robot_tsid_ctrl.set_gains(0.0, 0, 40.0, 0)"
   ]
  },
  {
   "cell_type": "code",
   "execution_count": 5,
   "metadata": {},
   "outputs": [
    {
     "data": {
      "text/html": [
       "\n",
       "            <div style=\"height: 400px; width: 100%; overflow-x: auto; overflow-y: hidden; resize: both\">\n",
       "            <iframe src=\"http://127.0.0.1:7007/static/\" style=\"width: 100%; height: 100%; border: none\"></iframe>\n",
       "            </div>\n",
       "            "
      ],
      "text/plain": [
       "<IPython.core.display.HTML object>"
      ]
     },
     "execution_count": 5,
     "metadata": {},
     "output_type": "execute_result"
    }
   ],
   "source": [
    "viz.viewer.jupyter_cell()"
   ]
  },
  {
   "cell_type": "code",
   "execution_count": null,
   "metadata": {
    "scrolled": true
   },
   "outputs": [
    {
     "name": "stdout",
     "output_type": "stream",
     "text": [
      "Warning: we couldn't add the cnt_0FL_FOOT cost item, it already existed.\n",
      "Warning: we couldn't add the cnt_0FR_FOOT cost item, it already existed.\n",
      "Warning: we couldn't add the cnt_0HL_FOOT cost item, it already existed.\n",
      "Warning: we couldn't add the cnt_0HR_FOOT cost item, it already existed.\n",
      "Warning: we couldn't add the cnt_0FL_FOOT cost item, it already existed.\n",
      "Warning: we couldn't add the cnt_0FR_FOOT cost item, it already existed.\n",
      "Warning: we couldn't add the cnt_0HL_FOOT cost item, it already existed.\n",
      "Warning: we couldn't add the cnt_0HR_FOOT cost item, it already existed.\n",
      "Warning: we couldn't add the cnt_0FL_FOOT cost item, it already existed.\n",
      "Warning: we couldn't add the cnt_0HR_FOOT cost item, it already existed.\n",
      "Warning: we couldn't add the cnt_0FL_FOOT cost item, it already existed.\n",
      "Warning: we couldn't add the via_0FR_FOOT cost item, it already existed.\n",
      "Warning: we couldn't add the via_0HL_FOOT cost item, it already existed.\n",
      "Warning: we couldn't add the cnt_0HR_FOOT cost item, it already existed.\n",
      "Warning: we couldn't add the cnt_0FL_FOOT cost item, it already existed.\n",
      "Warning: we couldn't add the via_0FR_FOOT cost item, it already existed.\n",
      "Warning: we couldn't add the via_0HL_FOOT cost item, it already existed.\n",
      "Warning: we couldn't add the cnt_0HR_FOOT cost item, it already existed.\n",
      "Warning: we couldn't add the xReg cost item, it already existed.\n",
      "Warning: we couldn't add the xReg cost item, it already existed.\n",
      "Warning: we couldn't add the xReg cost item, it already existed.\n",
      "Warning: we couldn't add the xReg cost item, it already existed.\n",
      "Warning: we couldn't add the xReg cost item, it already existed.\n",
      "Warning: we couldn't add the uReg cost item, it already existed.\n",
      "Warning: we couldn't add the uReg cost item, it already existed.\n",
      "Warning: we couldn't add the uReg cost item, it already existed.\n",
      "Warning: we couldn't add the uReg cost item, it already existed.\n",
      "Warning: we couldn't add the uReg cost item, it already existed.\n",
      "Warning: we couldn't add the xReg cost item, it already existed.\n",
      "Warning: we couldn't add the uReg cost item, it already existed.\n",
      "Warning: we couldn't add the mom_track cost item, it already existed.\n",
      "Warning: we couldn't add the mom_track cost item, it already existed.\n",
      "Warning: we couldn't add the mom_track cost item, it already existed.\n",
      "Warning: we couldn't add the mom_track cost item, it already existed.\n",
      "Warning: we couldn't add the mom_track cost item, it already existed.\n",
      "Warning: we couldn't add the mom_track cost item, it already existed.\n",
      "Warning: we couldn't add the com_track_cost cost item, it already existed.\n",
      "Warning: we couldn't add the com_track_cost cost item, it already existed.\n",
      "Warning: we couldn't add the com_track_cost cost item, it already existed.\n",
      "Warning: we couldn't add the com_track_cost cost item, it already existed.\n",
      "Warning: we couldn't add the com_track_cost cost item, it already existed.\n",
      "Warning: we couldn't add the com_track_cost cost item, it already existed.\n"
     ]
    }
   ],
   "source": [
    "q = q0\n",
    "v = v0\n",
    "step_t = 0\n",
    "n = 0\n",
    "for o in range(80):\n",
    "    contact_configuration = np.array([1,1,1,1])\n",
    "        \n",
    "    xs, us, f = gg.optimize(q, v, np.round(step_t,3), v_des, gait_params.step_ht, contact_configuration)\n",
    "#     gg.plot_plan()\n",
    "#     print(gg.cnt_plan[0])\n",
    "#     print(\"------------------------------------------\")\n",
    "    if o == 0:\n",
    "        plt_f = f[:int(plan_freq/sim_dt)]\n",
    "        plt_xs = xs[:int(plan_freq/sim_dt)]\n",
    "        plt_com = gg.com_int[:int(plan_freq/sim_dt)]\n",
    "        plt_mom = gg.mom_int[:int(plan_freq/sim_dt)]\n",
    "        \n",
    "    else:\n",
    "        plt_f = np.vstack((plt_f, f[:int(plan_freq/sim_dt)]))\n",
    "        plt_xs = np.vstack((plt_xs, xs[:int(plan_freq/sim_dt)]))\n",
    "        plt_com = np.vstack((plt_com, gg.com_int[:int(plan_freq/sim_dt)]))\n",
    "        plt_mom = np.vstack((plt_mom, gg.mom_int[:int(plan_freq/sim_dt)]))\n",
    "        \n",
    "        \n",
    "    gg.reset()\n",
    "    for ind in range(int(plan_freq/sim_dt)):\n",
    "        viz.display(xs[ind][:robot.model.nq])\n",
    "    \n",
    "    q = xs[int(plan_freq/sim_dt)-1][0:pin_robot.model.nq]\n",
    "    v = xs[int(plan_freq/sim_dt)-1][pin_robot.model.nq:]\n",
    "    step_t = (step_t + plan_freq)%gait_params.gait_period\n"
   ]
  },
  {
   "cell_type": "code",
   "execution_count": null,
   "metadata": {},
   "outputs": [],
   "source": [
    "%matplotlib notebook \n",
    "\n",
    "t = 0.001*np.arange(0, len(plt_f))\n",
    "\n",
    "fig  = plt.figure(1)\n",
    "plt.plot(t, plt_f[:,2], label = \"FL_Z\")\n",
    "plt.plot(t, plt_f[:,5], label = \"FR_Z\")\n",
    "# ax.plot(t, plt_f[:,8], label = \"HL_Z\")\n",
    "# ax.plot(t, plt_f[:,11], label = \"HR_Z\")\n",
    "plt.grid()\n",
    "plt.legend()\n",
    "plt.show()"
   ]
  },
  {
   "cell_type": "code",
   "execution_count": null,
   "metadata": {},
   "outputs": [],
   "source": [
    "%matplotlib notebook \n",
    "\n",
    "plt.plot(t, plt_com[:,0], label = \"com_x\")\n",
    "plt.plot(t, plt_com[:,1], label = \"com_y\")\n",
    "plt.plot(t, plt_com[:,2], label = \"com_z\")\n",
    "plt.grid()\n",
    "plt.legend()\n",
    "plt.show()"
   ]
  },
  {
   "cell_type": "code",
   "execution_count": null,
   "metadata": {},
   "outputs": [],
   "source": [
    "%matplotlib notebook \n",
    "\n",
    "plt.plot(t, plt_mom[:,0], label = \"mom_x\")\n",
    "plt.plot(t, plt_mom[:,1], label = \"mom_y\")\n",
    "plt.plot(t, plt_mom[:,2], label = \"mom_z\")\n",
    "plt.grid()\n",
    "plt.legend()\n",
    "plt.show()"
   ]
  },
  {
   "cell_type": "code",
   "execution_count": null,
   "metadata": {},
   "outputs": [],
   "source": [
    "%matplotlib notebook \n",
    "\n",
    "plt.plot(t, plt_mom[:,3], label = \"amom_x\")\n",
    "plt.plot(t, plt_mom[:,4], label = \"amom_y\")\n",
    "plt.plot(t, plt_mom[:,5], label = \"amom_z\")\n",
    "plt.grid()\n",
    "plt.legend()\n",
    "plt.show()"
   ]
  },
  {
   "cell_type": "code",
   "execution_count": null,
   "metadata": {},
   "outputs": [],
   "source": []
  }
 ],
 "metadata": {
  "kernelspec": {
   "display_name": "Python 3 (ipykernel)",
   "language": "python",
   "name": "python3"
  },
  "language_info": {
   "codemirror_mode": {
    "name": "ipython",
    "version": 3
   },
   "file_extension": ".py",
   "mimetype": "text/x-python",
   "name": "python",
   "nbconvert_exporter": "python",
   "pygments_lexer": "ipython3",
   "version": "3.8.10"
  }
 },
 "nbformat": 4,
 "nbformat_minor": 4
}

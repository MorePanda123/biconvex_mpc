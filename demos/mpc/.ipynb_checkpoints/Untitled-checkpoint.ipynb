{
 "cells": [
  {
   "cell_type": "code",
   "execution_count": 1,
   "id": "344060e7",
   "metadata": {},
   "outputs": [
    {
     "name": "stdout",
     "output_type": "stream",
     "text": [
      "solo import \n"
     ]
    }
   ],
   "source": [
    "# This file plays the mpc motion only in viz\n",
    "%load_ext autoreload\n",
    "%autoreload 2\n",
    "\n",
    "import time\n",
    "import numpy as np\n",
    "import pinocchio as pin\n",
    "import crocoddyl\n",
    "from matplotlib import pyplot as plt\n",
    "%matplotlib notebook \n",
    "\n",
    "from py_biconvex_mpc.motion_planner.cpp_biconvex import BiConvexMP\n",
    "from inverse_kinematics_cpp import InverseKinematics\n",
    "from py_biconvex_mpc.ik_utils.gait_generator import GaitGenerator\n",
    "from robot_properties_solo.config import Solo12Config"
   ]
  },
  {
   "cell_type": "code",
   "execution_count": 2,
   "id": "68c072ef",
   "metadata": {},
   "outputs": [
    {
     "name": "stdout",
     "output_type": "stream",
     "text": [
      "You can open the visualizer by visiting the following URL:\n",
      "http://127.0.0.1:7012/static/\n"
     ]
    }
   ],
   "source": [
    "robot = Solo12Config.buildRobotWrapper()\n",
    "rmodel = robot.model\n",
    "rdata = robot.data\n",
    "viz = pin.visualize.MeshcatVisualizer(robot.model, robot.collision_model, robot.visual_model)\n",
    "viz.initViewer(open=False)\n",
    "viz.loadViewerModel()\n",
    "pin_robot = Solo12Config.buildRobotWrapper()\n",
    "urdf = Solo12Config.urdf_path\n",
    "\n",
    "\n",
    "q0 = np.array(Solo12Config.initial_configuration)\n",
    "v0 = pin.utils.zero(pin_robot.model.nv)\n",
    "x0 = np.concatenate([q0, pin.utils.zero(pin_robot.model.nv)])\n",
    "x_reg = x0"
   ]
  },
  {
   "cell_type": "code",
   "execution_count": 3,
   "id": "b027be17",
   "metadata": {},
   "outputs": [],
   "source": [
    "eff_names = [\"FL_FOOT\", \"FR_FOOT\", \"HL_FOOT\", \"HR_FOOT\"]\n",
    "hip_names = [\"FL_HFE\", \"FR_HFE\", \"HL_HFE\", \"HR_HFE\"]\n",
    "pin.forwardKinematics(rmodel, rdata, q0, np.zeros(rmodel.nv))\n",
    "pin.updateFramePlacements(rmodel, rdata)\n",
    "com_init = pin.centerOfMass(rmodel, rdata, q0, np.zeros(rmodel.nv))\n",
    "\n",
    "ee_frame_id = []\n",
    "for i in range(len(eff_names)):\n",
    "    ee_frame_id.append(rmodel.getFrameId(eff_names[i]))\n"
   ]
  },
  {
   "cell_type": "code",
   "execution_count": 240,
   "id": "8df456f6",
   "metadata": {},
   "outputs": [],
   "source": [
    "dt = 5e-2\n",
    "T = 1.5\n",
    "rt = 0.5\n",
    "st = 0.5\n",
    "swing_wt = [1e4, 1e4]\n",
    "reg_wt = [7e-3, 7e-5]\n",
    "\n",
    "state_wt = np.array([0., 0, 0] + [100, 0, 100] + 4*[50.0, 50.0, 50] \\\n",
    "                        + [0.00] * 3 + [10, 10, 10] + [0.5] *(pin_robot.model.nv - 6))\n",
    "\n",
    "state_wt2 = np.array([0., 0, 0.0] + [100, 1000, 100] + 4*[1.0, 1.0, 1] \\\n",
    "                        + [0.00] * 3 + [10, 10, 10] + [0.5] *(pin_robot.model.nv - 6))\n",
    "\n",
    "x_reg2 = x_reg.copy()\n",
    "x_reg2[3:7] = [0,1,0,0]\n",
    "\n",
    "\n",
    "state_wt3 = np.array([0., 0, 0.0] + [100, 1000, 100] + 4*[50.0, 50.0, 50.0] \\\n",
    "                        + [0.00] * 3 + [10, 10, 10] + [0.5] *(pin_robot.model.nv - 6))\n",
    "\n",
    "x_reg3 = x_reg.copy()\n",
    "x_reg3[3:7] = [0,0.7071,0,0.7071]\n",
    "\n",
    "ctrl_wt = [0, 0, 10] + [10, 10, 10] + [50.0] *(pin_robot.model.nv - 6)\n",
    "\n",
    "\n",
    "cnt_plan = [[[ 1.,      0.3946,   0.14695,  0., 0.,  st    ],\n",
    "             [ 1.,      0.3946,  -0.14695,  0., 0.,  st    ],\n",
    "             [ 1.,      0.0054,   0.14695,  0., 0.,  st    ],\n",
    "             [ 1.,      0.0054,  -0.14695,  0., 0.,  st    ]],\n",
    "\n",
    "            [[ 1.,      0.3946,   0.14695,  0., st, st + rt   ],\n",
    "             [ 1.,      0.3946,  -0.14695,  0., st, st + rt   ],\n",
    "             [ 0.,      0.0054,   0.14695,  0., st, st + rt   ],\n",
    "             [ 0.,      0.0054,  -0.14695,  0., st, st + rt   ]],\n",
    "\n",
    "            [[ 1.,      0.3946,   0.14695,  0., st + rt, T    ],\n",
    "             [ 1.,      0.3946,  -0.14695,  0., st + rt, T    ],\n",
    "             [ 1.,      0.8054,   0.14695,  0., st + rt, T    ],\n",
    "             [ 1.,      0.8054,  -0.14695,  0., st + rt, T    ]]]\n"
   ]
  },
  {
   "cell_type": "code",
   "execution_count": 241,
   "id": "b52f5087",
   "metadata": {},
   "outputs": [],
   "source": [
    "ik = InverseKinematics(urdf, dt, T)\n",
    "ik.setup_costs()\n",
    "\n",
    "for i in range(int(T/dt)):\n",
    "    t = i*dt\n",
    "    for j in range(len(eff_names)):\n",
    "        if t < st:\n",
    "            pos = cnt_plan[0][j][1:4]\n",
    "            ik.add_position_tracking_task_single(ee_frame_id[j], pos, swing_wt[0],\n",
    "                                                              \"cnt_\" + str(0) + eff_names[j], i)\n",
    "        elif t < st + rt:\n",
    "            if cnt_plan[1][j][0] == 1:\n",
    "                pos = cnt_plan[1][j][1:4]\n",
    "                ik.add_position_tracking_task_single(ee_frame_id[j], pos, swing_wt[0],\n",
    "                                                                  \"cnt_\" + str(0) + eff_names[j], i)\n",
    "        \n",
    "        elif t > st + rt:\n",
    "            pos = cnt_plan[2][j][1:4]\n",
    "            ik.add_position_tracking_task_single(ee_frame_id[j], pos, swing_wt[0],\n",
    "                                                              \"cnt_\" + str(0) + eff_names[j], i)\n",
    "\n",
    "com_pos = np.zeros((int((T - st+rt)/dt), 3))\n",
    "com_pos[:,0] = 0.6\n",
    "com_pos[:,2] = 0.2\n",
    "\n",
    "ik.add_com_position_tracking_task(st+rt+0.1, T, com_pos, 1e4, \"com\", False)\n",
    "# ik.add_com_position_tracking_task(st+rt, T, com_pos, 1e6, \"com\", True)\n",
    "\n",
    "\n",
    "ik.add_state_regularization_cost(0, st, reg_wt[0], \"xReg\", state_wt, x_reg, False)\n",
    "ik.add_state_regularization_cost(st, st + rt, reg_wt[0], \"xReg\", state_wt3, x_reg3, False)\n",
    "ik.add_state_regularization_cost(st+rt, T, reg_wt[0], \"xReg\", state_wt2, x_reg2, False)\n",
    "\n",
    "# ik.add_ctrl_regularization_cost_2(0, T, reg_wt[1], \"uReg\", ctrl_wt, np.zeros(rmodel.nv), False)\n",
    "\n",
    "# ik.add_state_regularization_cost(0, T, reg_wt[0], \"xReg\", state_wt, x_reg, True)\n",
    "ik.add_ctrl_regularization_cost_2(0, T, reg_wt[1], \"uReg\", ctrl_wt, np.zeros(rmodel.nv), True)\n"
   ]
  },
  {
   "cell_type": "code",
   "execution_count": 242,
   "id": "1015e2fc",
   "metadata": {},
   "outputs": [],
   "source": [
    "ik.optimize(x0)\n",
    "\n",
    "xs = ik.get_xs()\n",
    "us = ik.get_us()\n"
   ]
  },
  {
   "cell_type": "code",
   "execution_count": 239,
   "id": "f43a2f53",
   "metadata": {},
   "outputs": [
    {
     "data": {
      "text/html": [
       "\n",
       "            <div style=\"height: 400px; width: 100%; overflow-x: auto; overflow-y: hidden; resize: both\">\n",
       "            <iframe src=\"http://127.0.0.1:7012/static/\" style=\"width: 100%; height: 100%; border: none\"></iframe>\n",
       "            </div>\n",
       "            "
      ],
      "text/plain": [
       "<IPython.core.display.HTML object>"
      ]
     },
     "execution_count": 239,
     "metadata": {},
     "output_type": "execute_result"
    }
   ],
   "source": [
    "viz.viewer.jupyter_cell()"
   ]
  },
  {
   "cell_type": "code",
   "execution_count": 244,
   "id": "e6af0bce",
   "metadata": {},
   "outputs": [],
   "source": [
    "for ind in range(len(xs)):    \n",
    "    time.sleep(0.1)\n",
    "    viz.display(xs[ind][:rmodel.nq])\n",
    "    "
   ]
  }
 ],
 "metadata": {
  "kernelspec": {
   "display_name": "Python 3 (ipykernel)",
   "language": "python",
   "name": "python3"
  },
  "language_info": {
   "codemirror_mode": {
    "name": "ipython",
    "version": 3
   },
   "file_extension": ".py",
   "mimetype": "text/x-python",
   "name": "python",
   "nbconvert_exporter": "python",
   "pygments_lexer": "ipython3",
   "version": "3.8.10"
  }
 },
 "nbformat": 4,
 "nbformat_minor": 5
}

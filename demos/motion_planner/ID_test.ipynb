{
 "cells": [
  {
   "cell_type": "code",
   "execution_count": 7,
   "metadata": {},
   "outputs": [],
   "source": [
    "# This file contains a tests to understand basic inverse dynamics\n",
    "import numpy as np\n",
    "import pinocchio as pin\n",
    "from matplotlib import pyplot as plt\n",
    "\n",
    "from robot_properties_solo.config import Solo12Config"
   ]
  },
  {
   "cell_type": "code",
   "execution_count": 37,
   "metadata": {},
   "outputs": [],
   "source": [
    "robot = Solo12Config.buildRobotWrapper()\n",
    "rmodel = robot.model\n",
    "rdata = robot.data\n",
    "\n",
    "eff_arr = [\"FL_FOOT\", \"FR_FOOT\", \"HL_FOOT\", \"HR_FOOT\"]\n",
    "\n",
    "f = np.load(\"dat_file/ik.npz\")\n",
    "q, v = f[\"xs\"][:,:robot.model.nq], f[\"xs\"][:,robot.model.nq:]\n",
    "a = f[\"us\"]\n",
    "fff = np.load(\"dat_file/mom.npz\")[\"F_opt\"]\n",
    "fff = np.reshape(fff, (int(len(fff)/12), 12))"
   ]
  },
  {
   "cell_type": "code",
   "execution_count": 71,
   "metadata": {},
   "outputs": [
    {
     "data": {
      "text/plain": [
       "[<matplotlib.lines.Line2D at 0x7f0e54b16908>]"
      ]
     },
     "execution_count": 71,
     "metadata": {},
     "output_type": "execute_result"
    },
    {
     "data": {
      "image/png": "[encoded data removed]",
      "text/plain": [
       "<Figure size 432x288 with 1 Axes>"
      ]
     },
     "metadata": {
      "needs_background": "light"
     },
     "output_type": "display_data"
    }
   ],
   "source": [
    "plt.plot(a[:,2])\n",
    "# plt.plot(fff[:,2])"
   ]
  },
  {
   "cell_type": "code",
   "execution_count": 70,
   "metadata": {},
   "outputs": [
    {
     "ename": "SyntaxError",
     "evalue": "'return' outside function (<ipython-input-70-bede623ef477>, line 10)",
     "output_type": "error",
     "traceback": [
      "\u001b[0;36m  File \u001b[0;32m\"<ipython-input-70-bede623ef477>\"\u001b[0;36m, line \u001b[0;32m10\u001b[0m\n\u001b[0;31m    return tau_id - tau\u001b[0m\n\u001b[0m    ^\u001b[0m\n\u001b[0;31mSyntaxError\u001b[0m\u001b[0;31m:\u001b[0m 'return' outside function\n"
     ]
    }
   ],
   "source": [
    "for i in range(len(fff)):\n",
    "    tau = np.zeros(robot.model.nv)\n",
    "    for j in range(len(eff_arr)):\n",
    "        J = pin.computeFrameJacobian(rmodel, rdata, q[i], rmodel.getFrameId(eff_arr[j]), pin.LOCAL_WORLD_ALIGNED)\n",
    "        tau += np.matmul(J.T, np.hstack((fff[i][j*3:(j+1)*3], np.zeros(3))))\n",
    "\n",
    "    # torque from inverse dynamics\n",
    "    tau_id = pin.rnea(rmodel, rdata, q[i], v[i], a[i])\n",
    "    \n",
    "    return tau_id - tau\n",
    "    "
   ]
  },
  {
   "cell_type": "code",
   "execution_count": 69,
   "metadata": {},
   "outputs": [
    {
     "data": {
      "text/plain": [
       "array([-0.1334386 , -0.00386308,  0.1241051 ,  0.05915575, -0.04176608,\n",
       "        0.00279209, -0.48631739,  0.18431901,  1.56354467,  0.52112304,\n",
       "        0.18188651,  1.58179589, -0.49235849, -0.20411044, -1.57697643,\n",
       "        0.52649668, -0.20242384, -1.59634236])"
      ]
     },
     "execution_count": 69,
     "metadata": {},
     "output_type": "execute_result"
    }
   ],
   "source": [
    "tau_id - tau"
   ]
  }
 ],
 "metadata": {
  "kernelspec": {
   "display_name": "Python 3",
   "language": "python",
   "name": "python3"
  },
  "language_info": {
   "codemirror_mode": {
    "name": "ipython",
    "version": 3
   },
   "file_extension": ".py",
   "mimetype": "text/x-python",
   "name": "python",
   "nbconvert_exporter": "python",
   "pygments_lexer": "ipython3",
   "version": "3.6.9"
  }
 },
 "nbformat": 4,
 "nbformat_minor": 4
}

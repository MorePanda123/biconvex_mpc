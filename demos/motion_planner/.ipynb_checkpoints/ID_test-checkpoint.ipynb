{
 "cells": [
  {
   "cell_type": "code",
   "execution_count": 7,
   "metadata": {},
   "outputs": [],
   "source": [
    "# This file contains a tests to understand basic inverse dynamics\n",
    "import numpy as np\n",
    "import pinocchio as pin\n",
    "from matplotlib import pyplot as plt\n",
    "\n",
    "from robot_properties_solo.config import Solo12Config"
   ]
  },
  {
   "cell_type": "code",
   "execution_count": 37,
   "metadata": {},
   "outputs": [],
   "source": [
    "robot = Solo12Config.buildRobotWrapper()\n",
    "rmodel = robot.model\n",
    "rdata = robot.data\n",
    "\n",
    "eff_arr = [\"FL_FOOT\", \"FR_FOOT\", \"HL_FOOT\", \"HR_FOOT\"]\n",
    "\n",
    "f = np.load(\"dat_file/ik.npz\")\n",
    "q, v = f[\"xs\"][:,:robot.model.nq], f[\"xs\"][:,robot.model.nq:]\n",
    "a = f[\"us\"]\n",
    "fff = np.load(\"dat_file/mom.npz\")[\"F_opt\"]\n",
    "fff = np.reshape(fff, (int(len(fff)/12), 12))"
   ]
  },
  {
   "cell_type": "code",
   "execution_count": 57,
   "metadata": {},
   "outputs": [
    {
     "data": {
      "text/plain": [
       "[<matplotlib.lines.Line2D at 0x7f0e56f35c18>]"
      ]
     },
     "execution_count": 57,
     "metadata": {},
     "output_type": "execute_result"
    },
    {
     "data": {
      "image/png": "[encoded data removed]",
      "text/plain": [
       "<Figure size 432x288 with 1 Axes>"
      ]
     },
     "metadata": {
      "needs_background": "light"
     },
     "output_type": "display_data"
    }
   ],
   "source": [
    "# plt.plot(q[:,2])\n",
    "plt.plot(fff[:,2])"
   ]
  },
  {
   "cell_type": "code",
   "execution_count": 68,
   "metadata": {},
   "outputs": [
    {
     "data": {
      "text/plain": [
       "array([-8.15625952e-01,  7.07491147e-01,  4.24360405e+01, -8.47545411e-02,\n",
       "        8.13416063e-02, -3.35089226e-03,  6.13789791e-01,  4.61749850e-04,\n",
       "       -1.60217294e+00, -6.46724582e-01,  6.13066835e-03, -1.62048865e+00,\n",
       "        6.21323070e-01,  2.07264184e-02,  1.61566389e+00, -6.53255844e-01,\n",
       "        1.61263612e-02,  1.63510673e+00])"
      ]
     },
     "execution_count": 68,
     "metadata": {},
     "output_type": "execute_result"
    }
   ],
   "source": [
    "for i in range(len(fff)):\n",
    "    tau = np.zeros(robot.model.nv)\n",
    "    for j in range(len(eff_arr)):\n",
    "        J = pin.computeFrameJacobian(rmodel, rdata, q[i], rmodel.getFrameId(eff_arr[j]), pin.LOCAL_WORLD_ALIGNED)\n",
    "        tau += np.matmul(J.T, np.hstack((fff[i][j*3:(j+1)*3], np.zeros(3))))\n",
    "\n",
    "    # torque from inverse dynamics\n",
    "    tau_id = pin.rnea(rmodel, rdata, q[i], v[i], a[i])\n",
    "    \n",
    "    return tau_id - tau\n",
    "    "
   ]
  },
  {
   "cell_type": "code",
   "execution_count": 69,
   "metadata": {},
   "outputs": [
    {
     "data": {
      "text/plain": [
       "array([-0.1334386 , -0.00386308,  0.1241051 ,  0.05915575, -0.04176608,\n",
       "        0.00279209, -0.48631739,  0.18431901,  1.56354467,  0.52112304,\n",
       "        0.18188651,  1.58179589, -0.49235849, -0.20411044, -1.57697643,\n",
       "        0.52649668, -0.20242384, -1.59634236])"
      ]
     },
     "execution_count": 69,
     "metadata": {},
     "output_type": "execute_result"
    }
   ],
   "source": [
    "tau_id - tau"
   ]
  }
 ],
 "metadata": {
  "kernelspec": {
   "display_name": "Python 3",
   "language": "python",
   "name": "python3"
  },
  "language_info": {
   "codemirror_mode": {
    "name": "ipython",
    "version": 3
   },
   "file_extension": ".py",
   "mimetype": "text/x-python",
   "name": "python",
   "nbconvert_exporter": "python",
   "pygments_lexer": "ipython3",
   "version": "3.6.9"
  }
 },
 "nbformat": 4,
 "nbformat_minor": 4
}

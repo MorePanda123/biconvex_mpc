{
 "cells": [
  {
   "cell_type": "code",
   "execution_count": 2,
   "metadata": {},
   "outputs": [],
   "source": [
    "import time\n",
    "import numpy as np\n",
    "import pinocchio as pin\n",
    "import crocoddyl\n",
    "\n",
    "from robot_properties_solo.config import Solo12Config\n",
    "from py_biconvex_mpc.ik.inverse_kinematics import InverseKinematics\n",
    "from py_biconvex_mpc.ik_utils.gait_generator import GaitGenerator\n",
    "\n",
    "from py_biconvex_mpc.motion_planner.biconvex import BiConvexMP\n",
    "from cnt_plan_utils import SoloCntGen"
   ]
  },
  {
   "cell_type": "code",
   "execution_count": 5,
   "metadata": {},
   "outputs": [],
   "source": [
    "dt = 0.05\n",
    "\n",
    "robot = Solo12Config.buildRobotWrapper()\n",
    "q0 = np.array(Solo12Config.initial_configuration)\n",
    "x0 = np.concatenate([q0, pin.utils.zero(robot.model.nv)])\n",
    "\n",
    "pin.forwardKinematics(robot.model, robot.data, q0, pin.utils.zero(robot.model.nv))\n",
    "pin.updateFramePlacements(robot.model, robot.data)\n",
    "\n",
    "fl_loc = robot.data.oMf[robot.model.getFrameId(\"FL_FOOT\")].translation\n",
    "fr_loc = robot.data.oMf[robot.model.getFrameId(\"FR_FOOT\")].translation\n",
    "hl_loc = robot.data.oMf[robot.model.getFrameId(\"HL_FOOT\")].translation\n",
    "hr_loc = robot.data.oMf[robot.model.getFrameId(\"HR_FOOT\")].translation"
   ]
  },
  {
   "cell_type": "code",
   "execution_count": 6,
   "metadata": {},
   "outputs": [],
   "source": [
    "# params\n",
    "m = pin.computeTotalMass(robot.model, robot.data)\n",
    "n_eff = 4\n",
    "\n",
    "# weights\n",
    "W_X = np.array([1e-5, 1e-5, 1e-5, 1e-5, 1e-5, 1e-5, 1e+3, 1e+3, 1e+3])\n",
    "W_X_ter = np.array([1e+5, 1e+5, 1e+5, 1e+4, 1e+4, 1e+4, 1e+4, 1e+4, 1e+4])\n",
    "\n",
    "W_F = np.array(2*[1e+1, 1e+1, 1e+1, 1e+1, 1e+1, 1e+1])\n",
    "\n",
    "rho = 1e+3 # penalty on dynamic constraint violation\n",
    "\n",
    "# initial and ter state\n",
    "X_init = np.array([0, 0, 0.25, 0, 0, 0, 0, 0, 0])\n",
    "X_ter = np.array([0.0, 0, 0.25, 0, 0, 0, 0, 0, 0])\n",
    "\n",
    "# contact plan\n",
    "st = 0.2 # step time \n",
    "sl = np.array([0.0,0.0,0]) # step length\n",
    "n_steps = 5 # number of steps\n",
    "T = st*(n_steps + 2)\n",
    "\n",
    "cnt_planner = SoloCntGen(0.2, 0.2)\n",
    "cnt_plan = cnt_planner.create_trot_plan(st, sl, n_steps)"
   ]
  },
  {
   "cell_type": "code",
   "execution_count": 7,
   "metadata": {
    "scrolled": false
   },
   "outputs": [
    {
     "name": "stdout",
     "output_type": "stream",
     "text": [
      "iter number 0\n",
      "iter number 1\n",
      "iter number 2\n",
      "iter number 3\n",
      "iter number 4\n",
      "iter number 5\n",
      "iter number 6\n",
      "iter number 7\n",
      "iter number 8\n",
      "iter number 9\n",
      "iter number 10\n",
      "iter number 11\n",
      "iter number 12\n",
      "iter number 13\n",
      "iter number 14\n",
      "iter number 15\n",
      "iter number 16\n",
      "iter number 17\n",
      "iter number 18\n",
      "iter number 19\n"
     ]
    }
   ],
   "source": [
    "# constraints \n",
    "bx = 0.2\n",
    "by = 0.2\n",
    "bz = 0.32\n",
    "fx_max = 15\n",
    "fy_max = 15\n",
    "fz_max = 15\n",
    "\n",
    "# optimization\n",
    "mp = BiConvexMP(m, dt, T, n_eff, rho = rho)\n",
    "mp.create_contact_array(cnt_plan)\n",
    "mp.create_bound_constraints(bx, by, bz, fx_max, fy_max, fz_max)\n",
    "\n",
    "X_opt, F_opt = mp.optimize(X_init, X_ter, W_X, W_F, W_X_ter, 20)"
   ]
  },
  {
   "cell_type": "code",
   "execution_count": 17,
   "metadata": {
    "scrolled": false
   },
   "outputs": [
    {
     "data": {
      "text/plain": [
       "matrix([[-1.02936440e-03],\n",
       "        [-2.73547065e-03],\n",
       "        [ 7.59135292e-02],\n",
       "        [-1.21336978e-03],\n",
       "        [-1.07986240e-03],\n",
       "        [-8.11425764e-05]])"
      ]
     },
     "execution_count": 17,
     "metadata": {},
     "output_type": "execute_result"
    }
   ],
   "source": [
    "X_opt[3:9]"
   ]
  }
 ],
 "metadata": {
  "kernelspec": {
   "display_name": "Python 3",
   "language": "python",
   "name": "python3"
  },
  "language_info": {
   "codemirror_mode": {
    "name": "ipython",
    "version": 3
   },
   "file_extension": ".py",
   "mimetype": "text/x-python",
   "name": "python",
   "nbconvert_exporter": "python",
   "pygments_lexer": "ipython3",
   "version": "3.6.9"
  }
 },
 "nbformat": 4,
 "nbformat_minor": 4
}

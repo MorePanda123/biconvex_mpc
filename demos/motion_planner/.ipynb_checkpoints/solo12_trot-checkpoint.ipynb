{
 "cells": [
  {
   "cell_type": "code",
   "execution_count": 1,
   "metadata": {},
   "outputs": [],
   "source": [
    "import time\n",
    "import numpy as np\n",
    "import pinocchio as pin\n",
    "import crocoddyl\n",
    "\n",
    "from robot_properties_solo.config import Solo12Config\n",
    "from py_biconvex_mpc.ik.inverse_kinematics import InverseKinematics\n",
    "from py_biconvex_mpc.ik_utils.gait_generator import GaitGenerator\n",
    "\n",
    "from py_biconvex_mpc.motion_planner.biconvex import BiConvexMP\n",
    "from cnt_plan_utils import SoloCntGen\n"
   ]
  },
  {
   "cell_type": "code",
   "execution_count": 2,
   "metadata": {},
   "outputs": [
    {
     "name": "stdout",
     "output_type": "stream",
     "text": [
      "You can open the visualizer by visiting the following URL:\n",
      "http://127.0.0.1:7000/static/\n"
     ]
    }
   ],
   "source": [
    "robot = Solo12Config.buildRobotWrapper()\n",
    "viz = pin.visualize.MeshcatVisualizer(robot.model, robot.collision_model, robot.visual_model)\n",
    "viz.initViewer(open=True)\n",
    "viz.loadViewerModel()\n",
    "\n",
    "n_eff = 4\n",
    "m = pin.computeTotalMass(robot.model)\n",
    "q0 = np.array(Solo12Config.initial_configuration)\n",
    "x0 = np.concatenate([q0, pin.utils.zero(robot.model.nv)])"
   ]
  },
  {
   "cell_type": "code",
   "execution_count": 107,
   "metadata": {},
   "outputs": [],
   "source": [
    "# initial and ter state\n",
    "X_init = np.zeros(9)\n",
    "X_init[0:3] = q0[0:3]\n",
    "X_ter = X_init.copy()\n",
    "\n",
    "# contact plan\n",
    "st = 0.2 # step time \n",
    "sh = 0.1 # step height\n",
    "sl = np.array([0.05,0.0,0]) # step length\n",
    "n_steps = 6 # number of steps\n",
    "T = st*(n_steps + 2)\n",
    "dt = 5e-2\n",
    "\n",
    "X_ter[0:3] += sl*(n_steps)\n",
    "\n",
    "cnt_planner = SoloCntGen(T, dt, 1)\n",
    "# print(cnt_plan)"
   ]
  },
  {
   "cell_type": "code",
   "execution_count": 143,
   "metadata": {},
   "outputs": [],
   "source": [
    "cnt_planner.reset(T, dt)\n",
    "cnt_plan = cnt_planner.create_trot_plan(st, sl, n_steps)\n",
    "ik_solver = cnt_planner.create_ik_step_costs(cnt_plan, sh, [1e+2, 1e+2])"
   ]
  },
  {
   "cell_type": "code",
   "execution_count": 109,
   "metadata": {},
   "outputs": [
    {
     "name": "stdout",
     "output_type": "stream",
     "text": [
      "iter number 0\n",
      "iter number 1\n",
      "iter number 2\n",
      "iter number 3\n",
      "iter number 4\n",
      "iter number 5\n",
      "iter number 6\n",
      "iter number 7\n",
      "iter number 8\n",
      "iter number 9\n",
      "iter number 10\n",
      "iter number 11\n",
      "iter number 12\n",
      "iter number 13\n",
      "iter number 14\n",
      "iter number 15\n",
      "iter number 16\n",
      "iter number 17\n",
      "iter number 18\n",
      "iter number 19\n",
      "iter number 20\n",
      "iter number 21\n",
      "iter number 22\n",
      "iter number 23\n",
      "iter number 24\n",
      "iter number 25\n",
      "iter number 26\n",
      "iter number 27\n",
      "iter number 28\n",
      "iter number 29\n"
     ]
    }
   ],
   "source": [
    "# weights\n",
    "W_X = np.array([1e-5, 1e-5, 1e-5, 1e+1, 2e+4, 5e+4, 1e+3, 1e+3, 1e+3])\n",
    "W_X_ter = np.array([1e+5, 1e+5, 1e+5, 1e+4, 1e+4, 1e+4, 1e+4, 1e+4, 1e+4])\n",
    "\n",
    "W_F = np.array(4*[1e-1, 1e-1, 1e-1])\n",
    "\n",
    "rho = 1e+2 # penalty on dynamic constraint violation\n",
    "\n",
    "# constraints \n",
    "bx = 0.25\n",
    "by = 0.25\n",
    "bz = 0.28\n",
    "fx_max = 15\n",
    "fy_max = 15\n",
    "fz_max = 15\n",
    "\n",
    "# optimization\n",
    "mp = BiConvexMP(m, dt, T, n_eff, rho = rho)\n",
    "mp.create_contact_array(cnt_plan)\n",
    "mp.create_bound_constraints(bx, by, bz, fx_max, fy_max, fz_max)\n",
    "\n",
    "X_opt, F_opt, mom_opt = mp.optimize(X_init, X_ter, W_X, W_F, W_X_ter, 30)\n",
    "mom_opt = np.round(mom_opt, 2)"
   ]
  },
  {
   "cell_type": "code",
   "execution_count": 144,
   "metadata": {},
   "outputs": [],
   "source": [
    "ik_solver.create_centroidal_task(mom_opt, 0, T, \"mom_track_cost\", 1e+3)\n",
    "xs = ik_solver.optimize(x0)"
   ]
  },
  {
   "cell_type": "code",
   "execution_count": 145,
   "metadata": {},
   "outputs": [
    {
     "name": "stdout",
     "output_type": "stream",
     "text": [
      "33 32.0\n"
     ]
    }
   ],
   "source": [
    "print(len(xs), T/dt)\n",
    "for i in range(len(xs)):\n",
    "    time.sleep(0.2)\n",
    "    viz.display(xs[i][:robot.model.nq])"
   ]
  },
  {
   "cell_type": "code",
   "execution_count": 126,
   "metadata": {
    "scrolled": false
   },
   "outputs": [
    {
     "name": "stdout",
     "output_type": "stream",
     "text": [
      "[0. 0. 0.] [ 0.    0.01 -0.  ]\n",
      "[-0. -0. -0.] [ 0.   -0.01 -0.  ]\n",
      "[-0.    0.01  0.  ] [ 0.   -0.01 -0.  ]\n",
      "[-0.    0.02  0.  ] [ 0.   -0.01  0.  ]\n",
      "[0.01 0.02 0.  ] [-0.   -0.01  0.  ]\n",
      "[ 0.    0.02 -0.  ] [ 0.   -0.01  0.  ]\n",
      "[0.01 0.03 0.  ] [ 0. -0.  0.]\n",
      "[-0.01  0.01  0.  ] [0. 0. 0.]\n",
      "[ 0.    0.04 -0.  ] [-0.01  0.02 -0.  ]\n",
      "[ 0.01  0.02 -0.  ] [-0. -0.  0.]\n",
      "[-0.01  0.02  0.  ] [ 0.   -0.01  0.  ]\n",
      "[-0.  0.  0.] [ 0.   -0.01  0.  ]\n",
      "[-0.    0.03 -0.  ] [0.01 0.   0.  ]\n",
      "[-0.01  0.02 -0.  ] [ 0.   -0.01  0.  ]\n",
      "[ 0.02  0.02 -0.01] [ 0.   -0.01  0.  ]\n",
      "[0.01 0.02 0.  ] [-0. -0.  0.]\n",
      "[0.   0.05 0.  ] [-0.01  0.02 -0.  ]\n",
      "[0.02 0.02 0.  ] [-0. -0. -0.]\n",
      "[-0.01  0.01  0.01] [ 0.   -0.01  0.  ]\n",
      "[-0.02  0.01  0.  ] [ 0.   -0.01  0.  ]\n",
      "[ 0.    0.01 -0.  ] [0.01 0.   0.  ]\n",
      "[-0.02 -0.   -0.  ] [ 0.   -0.01  0.  ]\n",
      "[ 0.01  0.   -0.01] [-0.   -0.01  0.  ]\n",
      "[ 0.   -0.   -0.01] [-0. -0.  0.]\n",
      "[0.01 0.02 0.01] [-0.01  0.02 -0.  ]\n",
      "[0.01 0.01 0.01] [-0.  0.  0.]\n",
      "[-0.01 -0.    0.01] [-0.   -0.01  0.  ]\n",
      "[-0.01 -0.01 -0.01] [-0. -0.  0.]\n",
      "[-0.    0.03  0.  ] [0.01 0.01 0.  ]\n",
      "[-0.    0.02  0.  ] [-0. -0. -0.]\n",
      "[-0.    0.02  0.  ] [-0.   -0.01 -0.  ]\n",
      "[-0.    0.01  0.  ] [-0.   -0.01 -0.  ]\n",
      "[ 0. -0. -0.] [ 0.  0. -0.]\n"
     ]
    }
   ],
   "source": [
    "for i in range(len(xs)):\n",
    "    q = xs[i][:robot.model.nq]\n",
    "    v = xs[i][robot.model.nq:]\n",
    "    pin.forwardKinematics(robot.model, robot.data, q, v)\n",
    "    pin.updateFramePlacements(robot.model, robot.data)\n",
    "    pin.centerOfMass(robot.model, robot.data, q, v)\n",
    "    pin.computeCentroidalMomentum(robot.model, robot.data)\n",
    "    print(np.round(robot.data.hg, 2)[3:6], mom_opt[i][3:6])"
   ]
  }
 ],
 "metadata": {
  "kernelspec": {
   "display_name": "Python 3",
   "language": "python",
   "name": "python3"
  },
  "language_info": {
   "codemirror_mode": {
    "name": "ipython",
    "version": 3
   },
   "file_extension": ".py",
   "mimetype": "text/x-python",
   "name": "python",
   "nbconvert_exporter": "python",
   "pygments_lexer": "ipython3",
   "version": "3.6.9"
  }
 },
 "nbformat": 4,
 "nbformat_minor": 4
}

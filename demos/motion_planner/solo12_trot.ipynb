{
 "cells": [
  {
   "cell_type": "code",
   "execution_count": 1,
   "metadata": {},
   "outputs": [
    {
     "name": "stdout",
     "output_type": "stream",
     "text": [
      "solo import \n"
     ]
    }
   ],
   "source": [
    "import time\n",
    "import numpy as np\n",
    "import pinocchio as pin\n",
    "import crocoddyl\n",
    "\n",
    "from py_biconvex_mpc.motion_planner.biconvex import BiConvexMP\n",
    "\n",
    "from robot_properties_solo.config import Solo12Config\n",
    "from py_biconvex_mpc.ik.inverse_kinematics import InverseKinematics\n",
    "from py_biconvex_mpc.ik_utils.gait_generator import GaitGenerator\n",
    "\n",
    "from cnt_plan_utils import SoloCntGen\n"
   ]
  },
  {
   "cell_type": "code",
   "execution_count": 2,
   "metadata": {},
   "outputs": [
    {
     "name": "stdout",
     "output_type": "stream",
     "text": [
      "You can open the visualizer by visiting the following URL:\n",
      "http://127.0.0.1:7000/static/\n"
     ]
    }
   ],
   "source": [
    "robot = Solo12Config.buildRobotWrapper()\n",
    "viz = pin.visualize.MeshcatVisualizer(robot.model, robot.collision_model, robot.visual_model)\n",
    "viz.initViewer(open=False)\n",
    "viz.loadViewerModel()"
   ]
  },
  {
   "cell_type": "code",
   "execution_count": 3,
   "metadata": {},
   "outputs": [],
   "source": [
    "n_eff = 4\n",
    "m = pin.computeTotalMass(robot.model)\n",
    "q0 = np.array(Solo12Config.initial_configuration)\n",
    "x0 = np.concatenate([q0, pin.utils.zero(robot.model.nv)])"
   ]
  },
  {
   "cell_type": "code",
   "execution_count": 4,
   "metadata": {},
   "outputs": [],
   "source": [
    "# initial and ter state\n",
    "X_init = np.zeros(9)\n",
    "X_init[0:3] = q0[0:3]\n",
    "X_ter = X_init.copy()\n",
    "\n",
    "# contact plan\n",
    "st = 0.2 # step time \n",
    "sh = 0.1 # step height\n",
    "sl = np.array([0.1,0.0,0]) # step length\n",
    "n_steps = 6 # number of steps\n",
    "T = st*(n_steps + 2)\n",
    "dt = 5e-2\n",
    "\n",
    "X_ter[0:3] += sl*(n_steps)\n",
    "X_nom = np.zeros((9*int(T/dt)))\n",
    "X_nom[2::9] = X_init[2]\n",
    "\n",
    "cnt_planner = SoloCntGen(T, dt, 1)\n",
    "# print(cnt_plan)"
   ]
  },
  {
   "cell_type": "code",
   "execution_count": 7,
   "metadata": {
    "scrolled": true
   },
   "outputs": [
    {
     "name": "stdout",
     "output_type": "stream",
     "text": [
      "iter number 0\n",
      "1.8266978437979784\n",
      "iter number 1\n",
      "0.6317075373983148\n",
      "iter number 2\n",
      "0.8242191217105466\n",
      "iter number 3\n",
      "0.2824243677484799\n",
      "iter number 4\n",
      "0.08342925853134164\n",
      "iter number 5\n",
      "0.07381220746374344\n",
      "iter number 6\n",
      "0.06273169240365951\n",
      "iter number 7\n",
      "0.05118628781711644\n",
      "iter number 8\n",
      "0.040075045011105405\n",
      "iter number 9\n",
      "0.03189839819066453\n",
      "iter number 10\n",
      "0.028768434001397995\n",
      "iter number 11\n",
      "0.029376195849224594\n",
      "iter number 12\n",
      "0.031624343410218275\n",
      "iter number 13\n",
      "0.0324935566261324\n",
      "iter number 14\n",
      "0.031991048494855935\n",
      "iter number 15\n",
      "0.03012830179439071\n",
      "iter number 16\n",
      "0.025301085512603926\n",
      "iter number 17\n",
      "0.022106280470451337\n",
      "iter number 18\n",
      "0.02112045811636421\n",
      "iter number 19\n",
      "0.01861055056735656\n",
      "iter number 20\n",
      "0.01666693682652152\n",
      "iter number 21\n",
      "0.014977292975713615\n",
      "iter number 22\n",
      "0.013020041330842608\n",
      "iter number 23\n",
      "0.010924166651857536\n",
      "iter number 24\n",
      "0.008001654692138975\n",
      "iter number 25\n",
      "0.006205433046599641\n",
      "iter number 26\n",
      "0.005031547276051113\n",
      "iter number 27\n",
      "0.004356880552822022\n",
      "iter number 28\n",
      "0.0042143704154327475\n",
      "iter number 29\n",
      "0.003695451146703132\n"
     ]
    }
   ],
   "source": [
    "# weights\n",
    "W_X = np.array([1e-5, 1e-5, 1e-5, 1e-4, 1e-4, 1e-4, 3e3, 3e3, 3e3])\n",
    "W_X_ter = 10*np.array([1e+5, 1e+5, 1e+5, 1e+5, 1e+5, 1e+5, 1e+5, 1e+5, 1e+5])\n",
    "\n",
    "W_F = np.array(4*[1e+1, 1e+1, 1e+1])\n",
    "\n",
    "rho = 1e+5 # penalty on dynamic constraint violation\n",
    "\n",
    "# constraints \n",
    "bx = 0.25\n",
    "by = 0.25\n",
    "bz = 0.25\n",
    "fx_max = 15\n",
    "fy_max = 15\n",
    "fz_max = 15\n",
    "\n",
    "# optimization\n",
    "mp = BiConvexMP(m, dt, T, n_eff, rho = rho)\n",
    "mp.create_contact_array(cnt_plan)\n",
    "mp.create_bound_constraints(bx, by, bz, fx_max, fy_max, fz_max)\n",
    "mp.create_cost_X(W_X, W_X_ter, X_ter, X_nom)\n",
    "mp.create_cost_F(W_F)\n",
    "com_opt, F_opt, mom_opt = mp.optimize(X_init, 30)"
   ]
  },
  {
   "cell_type": "code",
   "execution_count": 38,
   "metadata": {},
   "outputs": [],
   "source": [
    "cnt_planner.reset(T, dt)\n",
    "cnt_plan = cnt_planner.create_trot_plan(st, sl, n_steps)\n",
    "ik_solver = cnt_planner.create_ik_step_costs(cnt_plan, sh, [1e+2, 1e+4])"
   ]
  },
  {
   "cell_type": "code",
   "execution_count": 39,
   "metadata": {},
   "outputs": [],
   "source": [
    "ik_solver.ik.add_com_position_tracking_task(0, T, com_opt, 1e+4, \"com_track_cost\")\n",
    "ik_solver.create_centroidal_task(mom_opt, 0, T, \"mom_track_cost\", 1e+4)\n",
    "xs = ik_solver.optimize(x0, wt_xreg=5e-3)"
   ]
  },
  {
   "cell_type": "code",
   "execution_count": 40,
   "metadata": {},
   "outputs": [],
   "source": [
    "for i in range(len(xs)):\n",
    "    time.sleep(0.2)\n",
    "    viz.display(xs[i][:robot.model.nq])"
   ]
  },
  {
   "cell_type": "code",
   "execution_count": 10,
   "metadata": {},
   "outputs": [
    {
     "data": {
      "text/html": [
       "\n",
       "            <div style=\"height: 400px; width: 100%; overflow-x: auto; overflow-y: hidden; resize: both\">\n",
       "            <iframe src=\"http://127.0.0.1:7000/static/\" style=\"width: 100%; height: 100%; border: none\"></iframe>\n",
       "            </div>\n",
       "            "
      ],
      "text/plain": [
       "<IPython.core.display.HTML object>"
      ]
     },
     "execution_count": 10,
     "metadata": {},
     "output_type": "execute_result"
    }
   ],
   "source": [
    "viz.viewer.jupyter_cell()"
   ]
  },
  {
   "cell_type": "code",
   "execution_count": 41,
   "metadata": {
    "scrolled": true
   },
   "outputs": [
    {
     "name": "stdout",
     "output_type": "stream",
     "text": [
      "0.0 -0.0\n",
      "0.02 -0.02\n",
      "0.04 -0.04\n",
      "0.05 -0.05\n",
      "-0.07 -0.06\n",
      "-0.04 -0.05\n",
      "-0.06 -0.04\n",
      "-0.02 -0.01\n",
      "0.09 0.04\n",
      "0.01 0.0\n",
      "-0.02 -0.01\n",
      "-0.05 -0.0\n",
      "0.06 0.04\n",
      "0.01 -0.01\n",
      "-0.01 -0.02\n",
      "0.01 -0.01\n",
      "0.09 0.03\n",
      "0.05 -0.01\n",
      "0.0 -0.03\n",
      "0.0 -0.01\n",
      "0.08 0.03\n",
      "0.02 -0.02\n",
      "0.02 -0.03\n",
      "-0.03 -0.02\n",
      "0.09 0.02\n",
      "0.01 -0.02\n",
      "0.01 -0.03\n",
      "0.02 -0.02\n",
      "0.02 0.01\n",
      "0.01 -0.04\n",
      "0.0 -0.05\n",
      "0.0 -0.03\n",
      "-0.0 0.0\n"
     ]
    }
   ],
   "source": [
    "for i in range(len(xs)):\n",
    "    q = xs[i][:robot.model.nq]\n",
    "    v = xs[i][robot.model.nq:]\n",
    "    pin.forwardKinematics(robot.model, robot.data, q, v)\n",
    "    pin.updateFramePlacements(robot.model, robot.data)\n",
    "#     print(pin.centerOfMass(robot.model, robot.data, q, v)[2])\n",
    "    pin.computeCentroidalMomentum(robot.model, robot.data)\n",
    "    print(np.round(robot.data.hg, 2)[4], np.round(mom_opt[i][4],2))\n",
    "    "
   ]
  },
  {
   "cell_type": "code",
   "execution_count": 16,
   "metadata": {},
   "outputs": [
    {
     "name": "stdout",
     "output_type": "stream",
     "text": [
      "0.020552451498495713\n"
     ]
    }
   ],
   "source": [
    "j = 0\n",
    "tmp = com_opt[0][j]\n",
    "err = 0\n",
    "for i in range(1, len(com_opt)):\n",
    "    tmp += dt*mom_opt[i][j]/m\n",
    "    err += abs(com_opt[i][j] - tmp)/len(com_opt)\n",
    "\n",
    "print(err)"
   ]
  }
 ],
 "metadata": {
  "kernelspec": {
   "display_name": "Python 3",
   "language": "python",
   "name": "python3"
  },
  "language_info": {
   "codemirror_mode": {
    "name": "ipython",
    "version": 3
   },
   "file_extension": ".py",
   "mimetype": "text/x-python",
   "name": "python",
   "nbconvert_exporter": "python",
   "pygments_lexer": "ipython3",
   "version": "3.6.9"
  }
 },
 "nbformat": 4,
 "nbformat_minor": 4
}

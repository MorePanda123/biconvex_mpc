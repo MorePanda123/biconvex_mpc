{
 "cells": [
  {
   "cell_type": "code",
   "execution_count": 1,
   "metadata": {},
   "outputs": [],
   "source": [
    "## This contains a pure IK based troting motion plan\n",
    "## Author : Avadesh Meduri\n",
    "## Date : 26/02/2021\n",
    "\n",
    "import time\n",
    "import numpy as np\n",
    "import pinocchio as pin\n",
    "import crocoddyl\n",
    "\n",
    "from robot_properties_solo.config import Solo12Config\n",
    "from py_biconvex_mpc.ik.inverse_kinematics import InverseKinematics\n",
    "from py_biconvex_mpc.ik_utils.gait_generator import GaitGenerator"
   ]
  },
  {
   "cell_type": "code",
   "execution_count": 18,
   "metadata": {},
   "outputs": [],
   "source": [
    "dt = 1e-2\n",
    "T = 2.0\n",
    "\n",
    "robot = Solo12Config.buildRobotWrapper()\n",
    "q0 = np.array(Solo12Config.initial_configuration)\n",
    "x0 = np.concatenate([q0, pin.utils.zero(robot.model.nv)])\n",
    "\n",
    "pin.forwardKinematics(robot.model, robot.data, q0, pin.utils.zero(robot.model.nv))\n",
    "pin.updateFramePlacements(robot.model, robot.data)\n",
    "\n",
    "fl_loc = robot.data.oMf[robot.model.getFrameId(\"FL_FOOT\")].translation\n",
    "fr_loc = robot.data.oMf[robot.model.getFrameId(\"FR_FOOT\")].translation\n",
    "hl_loc = robot.data.oMf[robot.model.getFrameId(\"HL_FOOT\")].translation\n",
    "hr_loc = robot.data.oMf[robot.model.getFrameId(\"HR_FOOT\")].translation\n"
   ]
  },
  {
   "cell_type": "code",
   "execution_count": 3,
   "metadata": {},
   "outputs": [
    {
     "name": "stdout",
     "output_type": "stream",
     "text": [
      "You can open the visualizer by visiting the following URL:\n",
      "http://127.0.0.1:7001/static/\n"
     ]
    }
   ],
   "source": [
    "viz = pin.visualize.MeshcatVisualizer(robot.model, robot.collision_model, robot.visual_model)\n",
    "viz.initViewer(open=True)\n",
    "viz.loadViewerModel()"
   ]
  },
  {
   "cell_type": "code",
   "execution_count": 19,
   "metadata": {},
   "outputs": [],
   "source": [
    "sl = np.array([0.0, 0.0, 0])\n",
    "mass = pin.computeTotalMass(robot.model, robot.data)\n",
    "com_loc = pin.centerOfMass(robot.model, robot.data, q0)\n",
    "ctraj = np.zeros((int(T/dt), 6))\n",
    "ctraj[:,0] = 3*mass*sl[0]/T"
   ]
  },
  {
   "cell_type": "code",
   "execution_count": 20,
   "metadata": {
    "scrolled": false
   },
   "outputs": [],
   "source": [
    "gg = GaitGenerator(robot, T, dt)\n",
    "\n",
    "# gg.create_centroidal_task(ctraj, 0, 2.0, \"cmom_task\", 1e4)\n",
    "\n",
    "gg.create_swing_foot_task(fl_loc, fl_loc + sl, 0.0, 0.5, 0.1, \"FL_FOOT\", \"FL_ftc1\", 1e2)\n",
    "gg.create_swing_foot_task(hr_loc, hr_loc + sl, 0.0, 0.5, 0.1, \"HR_FOOT\", \"HR_ftc1\", 1e2)\n",
    "gg.create_contact_task(fr_loc, 0.0, 0.5, \"FR_FOOT\", \"FR_ctc1\", 1e3)\n",
    "gg.create_contact_task(hl_loc, 0.0, 0.5, \"HL_FOOT\", \"HL_ctc1\", 1e3)\n",
    "\n",
    "gg.create_swing_foot_task(fr_loc, fr_loc + 2*sl, 0.5, 1.0, 0.1, \"FR_FOOT\", \"FR_ftc1\", 1e2)\n",
    "gg.create_swing_foot_task(hl_loc, hl_loc + 2*sl, 0.5, 1.0, 0.1, \"HL_FOOT\", \"HL_ftc1\", 1e2)\n",
    "gg.create_contact_task(fl_loc + sl, 0.5, 1.0, \"FL_FOOT\", \"FL_ctc1\", 1e3)\n",
    "gg.create_contact_task(hr_loc + sl, 0.5, 1.0, \"HR_FOOT\", \"HR_ctc1\", 1e3)\n",
    "\n",
    "gg.create_swing_foot_task(fl_loc + sl, fl_loc + 3*sl, 1.0, 1.5, 0.1, \"FL_FOOT\", \"FL_ftc1\", 1e2)\n",
    "gg.create_swing_foot_task(hr_loc + sl, hr_loc + 3*sl, 1.0, 1.5, 0.1, \"HR_FOOT\", \"HR_ftc1\", 1e2)\n",
    "gg.create_contact_task(fr_loc + 2*sl, 1.0, 1.5, \"FR_FOOT\", \"FR_ctc2\", 1e3)\n",
    "gg.create_contact_task(hl_loc + 2*sl, 1.0, 1.5, \"HL_FOOT\", \"HL_ctc2\", 1e3)\n",
    "\n",
    "gg.create_swing_foot_task(fr_loc + 2*sl, fr_loc + 4*sl, 1.5, 2.0, 0.1, \"FR_FOOT\", \"FR_ftc1\", 1e2)\n",
    "gg.create_swing_foot_task(hl_loc + 2*sl, hl_loc + 4*sl, 1.5, 2.0, 0.1, \"HL_FOOT\", \"HL_ftc1\", 1e2)\n",
    "gg.create_contact_task(fl_loc + 3*sl, 1.5, 2.0, \"FL_FOOT\", \"FL_vtc2\", 1e3)\n",
    "gg.create_contact_task(hr_loc + 3*sl, 1.5, 2.0, \"HR_FOOT\", \"HR_vtc2\", 1e3)\n",
    "\n",
    "# comTrack = crocoddyl.CostModelCoMPosition(gg.ik.state, 4*sl + com_loc, gg.ik.state.nv)\n",
    "# gg.ik.terminalCostModel.addCost(\"comtask\", comTrack, 1e+3)\n",
    "\n",
    "xs = gg.optimize(x0)\n"
   ]
  },
  {
   "cell_type": "code",
   "execution_count": 21,
   "metadata": {},
   "outputs": [],
   "source": [
    "for i in range(len(xs)):\n",
    "    time.sleep(0.01)\n",
    "    viz.display(xs[i][:robot.model.nq])"
   ]
  }
 ],
 "metadata": {
  "kernelspec": {
   "display_name": "Python 3",
   "language": "python",
   "name": "python3"
  },
  "language_info": {
   "codemirror_mode": {
    "name": "ipython",
    "version": 3
   },
   "file_extension": ".py",
   "mimetype": "text/x-python",
   "name": "python",
   "nbconvert_exporter": "python",
   "pygments_lexer": "ipython3",
   "version": "3.6.9"
  }
 },
 "nbformat": 4,
 "nbformat_minor": 4
}

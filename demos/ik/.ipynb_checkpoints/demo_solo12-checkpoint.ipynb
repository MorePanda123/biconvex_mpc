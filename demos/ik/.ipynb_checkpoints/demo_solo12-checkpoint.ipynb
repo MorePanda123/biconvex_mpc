{
 "cells": [
  {
   "cell_type": "code",
   "execution_count": 1,
   "metadata": {},
   "outputs": [],
   "source": [
    "## This contains a simple IK problem for solo 12\n",
    "## Author : Avadesh Meduri\n",
    "## Date : 25/02/2021\n",
    "\n",
    "import time\n",
    "import crocoddyl\n",
    "import numpy as np\n",
    "import pinocchio as pin\n",
    "\n",
    "from robot_properties_solo.config import Solo12Config\n",
    "from inverse_kinematics import InverseKinematics"
   ]
  },
  {
   "cell_type": "code",
   "execution_count": 2,
   "metadata": {},
   "outputs": [
    {
     "name": "stdout",
     "output_type": "stream",
     "text": [
      "You can open the visualizer by visiting the following URL:\n",
      "http://127.0.0.1:7000/static/\n"
     ]
    }
   ],
   "source": [
    "robot = Solo12Config.buildRobotWrapper()\n",
    "robot_model = robot.model\n",
    "viz = pin.visualize.MeshcatVisualizer(robot.model, robot.collision_model, robot.visual_model)\n",
    "viz.initViewer(open=True)\n",
    "viz.loadViewerModel()"
   ]
  },
  {
   "cell_type": "code",
   "execution_count": 170,
   "metadata": {},
   "outputs": [],
   "source": [
    "# Running and terminal action models\n",
    "dt = 1e-3\n",
    "T = 0.2\n",
    "N = int(T/dt)"
   ]
  },
  {
   "cell_type": "code",
   "execution_count": 171,
   "metadata": {},
   "outputs": [],
   "source": [
    "traj = []\n",
    "com_traj = np.zeros((N,3))\n",
    "com_traj[:,2] = 0.25\n",
    "for t in range(N):\n",
    "    omega = np.pi/N\n",
    "    x = 0.15*np.sin(2*omega*t)\n",
    "    com_traj[t][0] = x + 0.2\n",
    "    traj.append(np.array([0.4 + x , -0.16 ,0.1*np.sin(omega*t)]))\n",
    "    \n",
    "traj_hl = traj + np.array([-.4, 0.32, 0])"
   ]
  },
  {
   "cell_type": "code",
   "execution_count": 172,
   "metadata": {},
   "outputs": [],
   "source": [
    "vel_traj = np.zeros((N, 6))"
   ]
  },
  {
   "cell_type": "code",
   "execution_count": 194,
   "metadata": {},
   "outputs": [],
   "source": [
    "# setting up running cost model for swing foot task\n",
    "ik = InverseKinematics(robot_model, dt, T)\n",
    "\n",
    "# ik.add_com_position_tracking_task(0, T, com_traj, 1e3, \"com_task\")\n",
    "\n",
    "ik.add_trajectory_tracking_task(robot_model.getFrameId(\"FR_FOOT\"), 0, T, traj, 1e3, \"FR_ftc\")\n",
    "ik.add_trajectory_tracking_task(robot_model.getFrameId(\"HL_FOOT\"), 0, T, traj_hl, 1e3, \"HL_ftc\")\n",
    "\n",
    "ik.add_velocity_tracking_cost(robot_model.getFrameId(\"FL_FOOT\"), 0, T, vel_traj, 1e2, \"FL_vtc\")\n",
    "# ik.add_velocity_tracking_cost(robot_model.getFrameId(\"FR_FOOT\"), 0, T, vel_traj, 1e2, \"FR_vtc\")\n",
    "# ik.add_velocity_tracking_cost(robot_model.getFrameId(\"HL_FOOT\"), 0, T, vel_traj, 1e2, \"HL_vtc\")\n",
    "ik.add_velocity_tracking_cost(robot_model.getFrameId(\"HR_FOOT\"), 0, T, vel_traj, 1e2, \"HR_vtc\")\n",
    "\n",
    "ik.add_state_regularization_cost(0, T, 1e-4, \"xReg\")\n",
    "ik.add_ctrl_regularization_cost(0, T, 1e-7, \"uReg\")\n",
    "\n",
    "# setting up terminal cost model\n",
    "xRegCost = crocoddyl.CostModelState(ik.state)\n",
    "uRegCost = crocoddyl.CostModelControl(ik.state)\n",
    "comTrack = crocoddyl.CostModelCoMPosition(ik.state, com_traj[-1], ik.state.nv)\n",
    "\n",
    "ik.terminalCostModel.addCost(\"stateReg\", xRegCost, 1e-4)\n",
    "ik.terminalCostModel.addCost(\"ctrlReg\", uRegCost, 1e-7) \n",
    "# ik.terminalCostModel.addCost(\"comtask\", comTrack, 1e+5)"
   ]
  },
  {
   "cell_type": "code",
   "execution_count": 195,
   "metadata": {},
   "outputs": [],
   "source": [
    "ik.setup_costs()\n",
    "\n",
    "q0 = np.array(Solo12Config.initial_configuration)\n",
    "x0 = np.concatenate([q0, pin.utils.zero(robot_model.nv)])\n",
    "xs = ik.optimize(x0) \n"
   ]
  },
  {
   "cell_type": "code",
   "execution_count": 197,
   "metadata": {},
   "outputs": [],
   "source": [
    "for i in range(len(xs)):\n",
    "    time.sleep(0.01)\n",
    "    viz.display(xs[i][:robot_model.nq])"
   ]
  },
  {
   "cell_type": "code",
   "execution_count": null,
   "metadata": {},
   "outputs": [],
   "source": []
  }
 ],
 "metadata": {
  "kernelspec": {
   "display_name": "Python 3",
   "language": "python",
   "name": "python3"
  },
  "language_info": {
   "codemirror_mode": {
    "name": "ipython",
    "version": 3
   },
   "file_extension": ".py",
   "mimetype": "text/x-python",
   "name": "python",
   "nbconvert_exporter": "python",
   "pygments_lexer": "ipython3",
   "version": "3.6.9"
  }
 },
 "nbformat": 4,
 "nbformat_minor": 4
}

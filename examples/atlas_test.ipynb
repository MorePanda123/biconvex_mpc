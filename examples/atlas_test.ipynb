{
 "cells": [
  {
   "cell_type": "code",
   "execution_count": 1,
   "id": "5ede2cc0",
   "metadata": {},
   "outputs": [],
   "source": [
    "## This is a demo for atlas\n",
    "## Author : Avadesh Meduri\n",
    "## Date : 06/04/2022\n",
    "%load_ext autoreload\n",
    "%autoreload 2\n",
    "\n",
    "import time\n",
    "import numpy as np\n",
    "from mpc.abstract_cyclic_gen1 import AbstractGaitGen\n",
    "from robot_properties_atlas.config import AtlasConfig\n",
    "from py_biconvex_mpc.ik_utils.abstract_gait_generator import AbstractGaitGenerator\n",
    "\n",
    "import pinocchio as pin\n",
    "\n",
    "import numpy as np\n",
    "from motions.weight_abstract import BiconvexMotionParams\n",
    "from robot_properties_solo.config import Solo12Config"
   ]
  },
  {
   "cell_type": "code",
   "execution_count": 2,
   "id": "87d3ac86",
   "metadata": {},
   "outputs": [
    {
     "name": "stdout",
     "output_type": "stream",
     "text": [
      "You can open the visualizer by visiting the following URL:\n",
      "http://127.0.0.1:7002/static/\n"
     ]
    }
   ],
   "source": [
    "robot = AtlasConfig.buildRobotWrapper()\n",
    "rmodel = robot.model\n",
    "rdata = robot.data\n",
    "viz = pin.visualize.MeshcatVisualizer(robot.model, robot.collision_model, robot.visual_model)\n",
    "viz.initViewer(open=False)\n",
    "viz.loadViewerModel()"
   ]
  },
  {
   "cell_type": "code",
   "execution_count": 76,
   "id": "cbb58b11",
   "metadata": {},
   "outputs": [],
   "source": [
    "## robot config and init\n",
    "pin_robot = AtlasConfig.buildRobotWrapper()\n",
    "urdf_path = AtlasConfig.urdf_path\n",
    "\n",
    "n_eff = 10\n",
    "eff_names = [\"l_foot_lt\", \"l_foot_rt\", \"l_foot_lb\", \"l_foot_rb\", \"r_foot_lt\", \"r_foot_rt\", \"r_foot_lb\", \"r_foot_rb\"]\n",
    "hip_names = [\"l_leg_hpz\", \"l_leg_hpz\", \"l_leg_hpz\", \"l_leg_hpz\", \"r_leg_hpz\", \"r_leg_hpz\", \"r_leg_hpz\", \"r_leg_hpz\"]\n",
    "q0 = np.array(AtlasConfig.initial_configuration)\n",
    "q0[0:2] = 0.0\n",
    "\n",
    "v0 = pin.utils.zero(pin_robot.model.nv)\n",
    "x0 = np.concatenate([q0, pin.utils.zero(pin_robot.model.nv)])\n",
    "\n",
    "v_des = np.array([0.0,0.0,0.0])\n",
    "w_des = 0.0\n",
    "\n",
    "plan_freq = 0.05 # sec\n",
    "update_time = 0.0 # sec (time of lag)"
   ]
  },
  {
   "cell_type": "code",
   "execution_count": 77,
   "id": "32753a2b",
   "metadata": {},
   "outputs": [],
   "source": [
    "gg = AbstractGaitGen(urdf_path, eff_names, hip_names, x0, plan_freq, q0)"
   ]
  },
  {
   "cell_type": "code",
   "execution_count": 108,
   "id": "1dabb0ab",
   "metadata": {},
   "outputs": [],
   "source": [
    "#### Stand Still #########################################\n",
    "still = BiconvexMotionParams(\"atlas\", \"Stand\")\n",
    "\n",
    "# Cnt\n",
    "still.gait_period = 1.0\n",
    "still.stance_percent = n_eff*[0.6,]\n",
    "still.gait_dt = 0.05\n",
    "still.phase_offset = int(n_eff/2)*[0.0,] + int(n_eff/2)*[0.5,] \n",
    "\n",
    "# IK\n",
    "still.state_wt = np.array([0., 0, 10] + [1000] * 3 + [1.0] * (pin_robot.model.nv - 6) \\\n",
    "                         + [0.00] * 3 + [100] * 3 + [0.5] *(pin_robot.model.nv - 6))\n",
    "\n",
    "still.ctrl_wt = [0, 0, 1000] + [5e2, 5e2, 5e2] + [1.0] *(pin_robot.model.nv - 6)\n",
    "\n",
    "still.swing_wt = [1e5, 1e5]\n",
    "still.cent_wt = [0*5e+1, 5e+2]\n",
    "still.step_ht = 0.4\n",
    "still.nom_ht = 0.95\n",
    "still.reg_wt = [5e-2, 1e-5]\n",
    "\n",
    "# Dyn\n",
    "still.W_X =        np.array([1e+5, 1e+5, 1e+5, 1e+1, 1e+1, 2e+2, 1e+4, 1e+4, 1e4])\n",
    "still.W_X_ter = 10*np.array([1e+5, 1e+5, 1e-5, 1e+1, 1e+1, 2e+2, 1e+5, 1e+5, 1e+5])\n",
    "still.W_F = np.array(4*[5e+4, 5e+4, 5e+8])\n",
    "still.rho = 5e+4\n",
    "still.ori_correction = [0.0, 0.0, 0.0]\n",
    "still.gait_horizon = 2.0\n",
    "\n",
    "# Gains\n",
    "still.kp = 3.0\n",
    "still.kd = 0.1"
   ]
  },
  {
   "cell_type": "code",
   "execution_count": 109,
   "id": "144b3629",
   "metadata": {
    "scrolled": false
   },
   "outputs": [
    {
     "name": "stdout",
     "output_type": "stream",
     "text": [
      "Initialized Kino-Dyn planner\n"
     ]
    }
   ],
   "source": [
    "gg.update_gait_params(still, 0)"
   ]
  },
  {
   "cell_type": "code",
   "execution_count": 27,
   "id": "6ed88e8a",
   "metadata": {},
   "outputs": [
    {
     "data": {
      "text/html": [
       "\n",
       "            <div style=\"height: 400px; width: 100%; overflow-x: auto; overflow-y: hidden; resize: both\">\n",
       "            <iframe src=\"http://127.0.0.1:7002/static/\" style=\"width: 100%; height: 100%; border: none\"></iframe>\n",
       "            </div>\n",
       "            "
      ],
      "text/plain": [
       "<IPython.core.display.HTML object>"
      ]
     },
     "execution_count": 27,
     "metadata": {},
     "output_type": "execute_result"
    }
   ],
   "source": [
    "viz.viewer.jupyter_cell()"
   ]
  },
  {
   "cell_type": "code",
   "execution_count": 110,
   "id": "ccc55d7a",
   "metadata": {},
   "outputs": [
    {
     "name": "stdout",
     "output_type": "stream",
     "text": [
      "Maximum iterations reached \n",
      "Final norm: 2.18091\n",
      "Maximum iterations reached \n",
      "Final norm: 2.19612\n",
      "Maximum iterations reached \n",
      "Final norm: 2.64539\n",
      "Maximum iterations reached \n",
      "Final norm: 15.6764\n",
      "Maximum iterations reached \n",
      "Final norm: 14.8156\n",
      "Maximum iterations reached \n",
      "Final norm: 16.1538\n",
      "Maximum iterations reached \n",
      "Final norm: 13.4562\n",
      "Maximum iterations reached \n",
      "Final norm: 12.9338\n",
      "Maximum iterations reached \n",
      "Final norm: 46.4205\n",
      "Maximum iterations reached \n",
      "Final norm: 49.2483\n",
      "Maximum iterations reached \n",
      "Final norm: 52.2187\n"
     ]
    },
    {
     "ename": "KeyboardInterrupt",
     "evalue": "",
     "output_type": "error",
     "traceback": [
      "\u001b[0;31m---------------------------------------------------------------------------\u001b[0m",
      "\u001b[0;31mKeyboardInterrupt\u001b[0m                         Traceback (most recent call last)",
      "Input \u001b[0;32mIn [110]\u001b[0m, in \u001b[0;36m<cell line: 12>\u001b[0;34m()\u001b[0m\n\u001b[1;32m     10\u001b[0m lag \u001b[38;5;241m=\u001b[39m \u001b[38;5;28mint\u001b[39m(update_time\u001b[38;5;241m/\u001b[39msim_dt)\n\u001b[1;32m     12\u001b[0m \u001b[38;5;28;01mfor\u001b[39;00m o \u001b[38;5;129;01min\u001b[39;00m \u001b[38;5;28mrange\u001b[39m(\u001b[38;5;241m20\u001b[39m):\n\u001b[0;32m---> 13\u001b[0m     xs, us, f \u001b[38;5;241m=\u001b[39m \u001b[43mgg\u001b[49m\u001b[38;5;241;43m.\u001b[39;49m\u001b[43moptimize\u001b[49m\u001b[43m(\u001b[49m\u001b[43mq\u001b[49m\u001b[43m,\u001b[49m\u001b[43m \u001b[49m\u001b[43mv\u001b[49m\u001b[43m,\u001b[49m\u001b[43m \u001b[49m\u001b[43msim_t\u001b[49m\u001b[43m,\u001b[49m\u001b[43m \u001b[49m\u001b[43mv_des\u001b[49m\u001b[43m,\u001b[49m\u001b[43m \u001b[49m\u001b[43mw_des\u001b[49m\u001b[43m)\u001b[49m\n\u001b[1;32m     14\u001b[0m     xs \u001b[38;5;241m=\u001b[39m xs[lag:]\n\u001b[1;32m     15\u001b[0m     us \u001b[38;5;241m=\u001b[39m us[lag:]\n",
      "File \u001b[0;32m~/devel/workspace/biconvex_mpc/examples/mpc/abstract_cyclic_gen1.py:358\u001b[0m, in \u001b[0;36mAbstractGaitGen.optimize\u001b[0;34m(self, q, v, t, v_des, w_des, X_wm, F_wm, P_wm)\u001b[0m\n\u001b[1;32m    355\u001b[0m \u001b[38;5;66;03m# pinocchio complains otherwise \u001b[39;00m\n\u001b[1;32m    356\u001b[0m q \u001b[38;5;241m=\u001b[39m pin\u001b[38;5;241m.\u001b[39mnormalize(\u001b[38;5;28mself\u001b[39m\u001b[38;5;241m.\u001b[39mrmodel, q)\n\u001b[0;32m--> 358\u001b[0m \u001b[38;5;28;43mself\u001b[39;49m\u001b[38;5;241;43m.\u001b[39;49m\u001b[43mkd\u001b[49m\u001b[38;5;241;43m.\u001b[39;49m\u001b[43moptimize\u001b[49m\u001b[43m(\u001b[49m\u001b[43mq\u001b[49m\u001b[43m,\u001b[49m\u001b[43m \u001b[49m\u001b[43mv\u001b[49m\u001b[43m,\u001b[49m\u001b[43m \u001b[49m\u001b[38;5;241;43m100\u001b[39;49m\u001b[43m,\u001b[49m\u001b[43m \u001b[49m\u001b[38;5;241;43m1\u001b[39;49m\u001b[43m)\u001b[49m\n\u001b[1;32m    360\u001b[0m t3 \u001b[38;5;241m=\u001b[39m time\u001b[38;5;241m.\u001b[39mtime()\n\u001b[1;32m    362\u001b[0m \u001b[38;5;66;03m# print(\"Cost Time :\", t2 - t1)\u001b[39;00m\n\u001b[1;32m    363\u001b[0m \u001b[38;5;66;03m# print(\"Solve Time : \", t3 - t2)\u001b[39;00m\n\u001b[1;32m    364\u001b[0m \u001b[38;5;66;03m# print(\" ================================== \")\u001b[39;00m\n",
      "\u001b[0;31mKeyboardInterrupt\u001b[0m: "
     ]
    }
   ],
   "source": [
    "sim_t = 0.0\n",
    "sim_dt = 0.05\n",
    "index = 0\n",
    "pln_ctr = 0\n",
    "plan_freq = 0.8 # sec\n",
    "update_time = 0.0 # sec (time of lag)\n",
    "q = q0\n",
    "v = v0\n",
    "\n",
    "lag = int(update_time/sim_dt)\n",
    "\n",
    "for o in range(1):\n",
    "    xs, us, f = gg.optimize(q, v, sim_t, v_des, w_des)\n",
    "    xs = xs[lag:]\n",
    "    us = us[lag:]\n",
    "    f = f[lag:]\n",
    "\n",
    "    for ind in range(int(plan_freq/(sim_dt))):\n",
    "        viz.display(xs[ind][:robot.model.nq])\n",
    "        time.sleep(0.001)\n",
    "\n",
    "    q = xs[int(plan_freq/sim_dt)-1][0:pin_robot.model.nq]\n",
    "    v = xs[int(plan_freq/sim_dt)-1][pin_robot.model.nq:]\n",
    "\n",
    "    sim_t += plan_freq"
   ]
  }
 ],
 "metadata": {
  "kernelspec": {
   "display_name": "Python 3 (ipykernel)",
   "language": "python",
   "name": "python3"
  },
  "language_info": {
   "codemirror_mode": {
    "name": "ipython",
    "version": 3
   },
   "file_extension": ".py",
   "mimetype": "text/x-python",
   "name": "python",
   "nbconvert_exporter": "python",
   "pygments_lexer": "ipython3",
   "version": "3.8.10"
  }
 },
 "nbformat": 4,
 "nbformat_minor": 5
}

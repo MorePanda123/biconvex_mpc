{
 "cells": [
  {
   "cell_type": "code",
   "execution_count": 1,
   "id": "5ede2cc0",
   "metadata": {},
   "outputs": [
    {
     "name": "stderr",
     "output_type": "stream",
     "text": [
      "<frozen importlib._bootstrap>:219: RuntimeWarning: to-Python converter for boost::shared_ptr<hpp::fcl::CollisionGeometry> already registered; second conversion method ignored.\n"
     ]
    }
   ],
   "source": [
    "## This is a demo for atlas\n",
    "## Author : Avadesh Meduri\n",
    "## Date : 06/04/2022\n",
    "%load_ext autoreload\n",
    "%autoreload 2\n",
    "\n",
    "import time\n",
    "import numpy as np\n",
    "from mpc.abstract_cyclic_gen1 import AbstractGaitGen\n",
    "from robot_properties_atlas.config import AtlasConfig\n",
    "from py_biconvex_mpc.ik_utils.abstract_gait_generator import AbstractGaitGenerator\n",
    "\n",
    "from matplotlib import pyplot as plt\n",
    "\n",
    "import pinocchio as pin\n",
    "\n",
    "import numpy as np\n",
    "from motions.weight_abstract import BiconvexMotionParams\n",
    "from robot_properties_solo.config import Solo12Config"
   ]
  },
  {
   "cell_type": "code",
   "execution_count": 2,
   "id": "87d3ac86",
   "metadata": {},
   "outputs": [
    {
     "name": "stdout",
     "output_type": "stream",
     "text": [
      "You can open the visualizer by visiting the following URL:\n",
      "http://127.0.0.1:7000/static/\n"
     ]
    }
   ],
   "source": [
    "robot = AtlasConfig.buildRobotWrapper()\n",
    "rmodel = robot.model\n",
    "rdata = robot.data\n",
    "viz = pin.visualize.MeshcatVisualizer(robot.model, robot.collision_model, robot.visual_model)\n",
    "viz.initViewer(open=False)\n",
    "viz.loadViewerModel()"
   ]
  },
  {
   "cell_type": "code",
   "execution_count": 3,
   "id": "cbb58b11",
   "metadata": {},
   "outputs": [],
   "source": [
    "## robot config and init\n",
    "pin_robot = AtlasConfig.buildRobotWrapper()\n",
    "urdf_path = AtlasConfig.urdf_path\n",
    "\n",
    "eff_names = [\"l_foot_lt\", \"l_foot_rt\", \"l_foot_lb\", \"l_foot_rb\", \"r_foot_lt\", \"r_foot_rt\", \"r_foot_lb\", \"r_foot_rb\"]\n",
    "hip_names = [\"l_leg_hpz\", \"l_leg_hpz\", \"l_leg_hpz\", \"l_leg_hpz\", \"r_leg_hpz\", \"r_leg_hpz\", \"r_leg_hpz\", \"r_leg_hpz\"]\n",
    "\n",
    "# eff_names = [\"l_leg_akx\", \"r_leg_akx\"]\n",
    "# hip_names = [\"l_leg_hpz\", \"r_leg_hpz\"]\n",
    "n_eff = len(eff_names)\n",
    "\n",
    "q0 = np.array(AtlasConfig.initial_configuration)\n",
    "q0[0:2] = 0.0\n",
    "q0[10] = np.pi/4.0\n",
    "# q0[13] = np.pi/4.0\n",
    "\n",
    "v0 = pin.utils.zero(pin_robot.model.nv)\n",
    "x0 = np.concatenate([q0, pin.utils.zero(pin_robot.model.nv)])\n",
    "\n",
    "v_des = np.array([0.0,0.0,0.0])\n",
    "w_des = 0.0\n",
    "\n",
    "plan_freq = 0.05 # sec\n",
    "update_time = 0.0 # sec (time of lag)"
   ]
  },
  {
   "cell_type": "code",
   "execution_count": 4,
   "id": "32753a2b",
   "metadata": {},
   "outputs": [
    {
     "name": "stdout",
     "output_type": "stream",
     "text": [
      "robot_mass: 174.25030999999998\n"
     ]
    }
   ],
   "source": [
    "gg = AbstractGaitGen(urdf_path, eff_names, hip_names, x0, plan_freq, q0)"
   ]
  },
  {
   "cell_type": "code",
   "execution_count": 5,
   "id": "1dabb0ab",
   "metadata": {},
   "outputs": [],
   "source": [
    "#### Stand Still #########################################\n",
    "still = BiconvexMotionParams(\"atlas\", \"Stand\")\n",
    "\n",
    "# Cnt\n",
    "still.gait_period = 0.15\n",
    "still.stance_percent = n_eff*[1.,]\n",
    "still.gait_dt = 0.02\n",
    "still.phase_offset = int(n_eff)*[0.0,]\n",
    "\n",
    "# IK\n",
    "still.state_wt = np.array([1e4, 1e4, 1e4] + [1e5] * 3 + [1e5] * (pin_robot.model.nv - 6) \\\n",
    "                         + [1e2] * 3 + [1e3] * 3 + [5.] *(pin_robot.model.nv - 6))\n",
    "\n",
    "still.ctrl_wt = [0, 0, 1] + [1, 1, 1] + [5.0] *(rmodel.nv - 6)\n",
    "\n",
    "still.swing_wt = [1e5, 2e5]\n",
    "still.cent_wt = [5e+2, 5e+1]\n",
    "still.step_ht = 0.\n",
    "still.nom_ht = 1.12\n",
    "still.reg_wt = [5e-2, 1e-5]\n",
    "\n",
    "# Dyn\n",
    "still.W_X =     np.array([5e+3, 5e+3, 1e+5, 1e-2, 1e-2, 1e1, 1e-2, 1e-2, 1e-2])\n",
    "still.W_X_ter = 10.*np.array([1e3, 1e3, 1e+5, 1e+2, 1e+2, 2e3, 1e+2, 1e+2, 1e+2])\n",
    "still.W_F = np.array(8*[1e1, 1e1,5e0])\n",
    "still.rho = 1e4\n",
    "\n",
    "still.ori_correction = [0.5, 0.5, 0.5]\n",
    "still.gait_horizon = 1\n",
    "\n",
    "# Gains\n",
    "still.kp = 150.0\n",
    "still.kd = 10.0"
   ]
  },
  {
   "cell_type": "code",
   "execution_count": 6,
   "id": "144b3629",
   "metadata": {
    "scrolled": false
   },
   "outputs": [
    {
     "name": "stdout",
     "output_type": "stream",
     "text": [
      "Initialized Kino-Dyn planner\n"
     ]
    }
   ],
   "source": [
    "gg.update_gait_params(still, 0)"
   ]
  },
  {
   "cell_type": "code",
   "execution_count": 7,
   "id": "6ed88e8a",
   "metadata": {},
   "outputs": [
    {
     "data": {
      "text/html": [
       "\n",
       "            <div style=\"height: 400px; width: 100%; overflow-x: auto; overflow-y: hidden; resize: both\">\n",
       "            <iframe src=\"http://127.0.0.1:7000/static/\" style=\"width: 100%; height: 100%; border: none\"></iframe>\n",
       "            </div>\n",
       "            "
      ],
      "text/plain": [
       "<IPython.core.display.HTML object>"
      ]
     },
     "execution_count": 7,
     "metadata": {},
     "output_type": "execute_result"
    }
   ],
   "source": [
    "viz.viewer.jupyter_cell()"
   ]
  },
  {
   "cell_type": "code",
   "execution_count": 24,
   "id": "ccc55d7a",
   "metadata": {
    "scrolled": false
   },
   "outputs": [
    {
     "name": "stdout",
     "output_type": "stream",
     "text": [
      "Maximum iterations reached \n",
      "Final norm: 0.000995687\n",
      "Maximum iterations reached \n",
      "Final norm: 0.000986961\n",
      "Maximum iterations reached \n",
      "Final norm: 0.00124646\n",
      "Maximum iterations reached \n",
      "Final norm: 0.00224678\n",
      "Maximum iterations reached \n",
      "Final norm: 0.0026272\n",
      "Maximum iterations reached \n",
      "Final norm: 0.00357586\n",
      "Maximum iterations reached \n",
      "Final norm: 0.00371535\n",
      "Maximum iterations reached \n",
      "Final norm: 0.00448915\n",
      "Maximum iterations reached \n",
      "Final norm: 0.00436892\n",
      "Maximum iterations reached \n",
      "Final norm: 0.00497922\n",
      "Maximum iterations reached \n",
      "Final norm: 0.00464978\n",
      "Maximum iterations reached \n",
      "Final norm: 0.00483721\n",
      "Maximum iterations reached \n",
      "Final norm: 0.0043679\n",
      "Maximum iterations reached \n",
      "Final norm: 0.00441382\n",
      "Maximum iterations reached \n",
      "Final norm: 0.00395744\n"
     ]
    },
    {
     "ename": "KeyboardInterrupt",
     "evalue": "",
     "output_type": "error",
     "traceback": [
      "\u001b[0;31m---------------------------------------------------------------------------\u001b[0m",
      "\u001b[0;31mKeyboardInterrupt\u001b[0m                         Traceback (most recent call last)",
      "Input \u001b[0;32mIn [24]\u001b[0m, in \u001b[0;36m<cell line: 9>\u001b[0;34m()\u001b[0m\n\u001b[1;32m      6\u001b[0m v \u001b[38;5;241m=\u001b[39m v0\n\u001b[1;32m      9\u001b[0m \u001b[38;5;28;01mfor\u001b[39;00m o \u001b[38;5;129;01min\u001b[39;00m \u001b[38;5;28mrange\u001b[39m(\u001b[38;5;241m100\u001b[39m):\n\u001b[0;32m---> 10\u001b[0m     xs, us, f \u001b[38;5;241m=\u001b[39m \u001b[43mgg\u001b[49m\u001b[38;5;241;43m.\u001b[39;49m\u001b[43moptimize\u001b[49m\u001b[43m(\u001b[49m\u001b[43mq\u001b[49m\u001b[43m,\u001b[49m\u001b[43m \u001b[49m\u001b[43mv\u001b[49m\u001b[43m,\u001b[49m\u001b[43m \u001b[49m\u001b[43msim_t\u001b[49m\u001b[43m,\u001b[49m\u001b[43m \u001b[49m\u001b[43mv_des\u001b[49m\u001b[43m,\u001b[49m\u001b[43m \u001b[49m\u001b[43mw_des\u001b[49m\u001b[43m)\u001b[49m\n\u001b[1;32m     11\u001b[0m \u001b[38;5;66;03m#     gg.plot(q, v)\u001b[39;00m\n\u001b[1;32m     12\u001b[0m     \u001b[38;5;28;01mfor\u001b[39;00m ind \u001b[38;5;129;01min\u001b[39;00m \u001b[38;5;28mrange\u001b[39m(\u001b[38;5;28mlen\u001b[39m(xs)):\n",
      "File \u001b[0;32m~/devel/workspace/biconvex_mpc/examples/mpc/abstract_cyclic_gen1.py:370\u001b[0m, in \u001b[0;36mAbstractGaitGen.optimize\u001b[0;34m(self, q, v, t, v_des, w_des, X_wm, F_wm, P_wm)\u001b[0m\n\u001b[1;32m    368\u001b[0m \u001b[38;5;66;03m# pinocchio complains otherwise\u001b[39;00m\n\u001b[1;32m    369\u001b[0m q \u001b[38;5;241m=\u001b[39m pin\u001b[38;5;241m.\u001b[39mnormalize(\u001b[38;5;28mself\u001b[39m\u001b[38;5;241m.\u001b[39mrmodel, q)\n\u001b[0;32m--> 370\u001b[0m \u001b[38;5;28;43mself\u001b[39;49m\u001b[38;5;241;43m.\u001b[39;49m\u001b[43mkd\u001b[49m\u001b[38;5;241;43m.\u001b[39;49m\u001b[43moptimize\u001b[49m\u001b[43m(\u001b[49m\u001b[43mq\u001b[49m\u001b[43m,\u001b[49m\u001b[43m \u001b[49m\u001b[43mv\u001b[49m\u001b[43m,\u001b[49m\u001b[43m \u001b[49m\u001b[38;5;241;43m50\u001b[39;49m\u001b[43m,\u001b[49m\u001b[43m \u001b[49m\u001b[38;5;241;43m1\u001b[39;49m\u001b[43m)\u001b[49m\n\u001b[1;32m    371\u001b[0m t3 \u001b[38;5;241m=\u001b[39m time\u001b[38;5;241m.\u001b[39mtime()\n\u001b[1;32m    373\u001b[0m \u001b[38;5;66;03m# print(\"Cost Time :\", t2 - t1)\u001b[39;00m\n\u001b[1;32m    374\u001b[0m \u001b[38;5;66;03m# print(\"Solve Time : \", t3 - t2)\u001b[39;00m\n\u001b[1;32m    375\u001b[0m \u001b[38;5;66;03m# print(\" ================================== \")\u001b[39;00m\n",
      "\u001b[0;31mKeyboardInterrupt\u001b[0m: "
     ]
    }
   ],
   "source": [
    "sim_t = 0.0\n",
    "sim_dt = 0.001\n",
    "index = 0\n",
    "pln_ctr = 0\n",
    "q = q0\n",
    "v = v0\n",
    "\n",
    "\n",
    "for o in range(100):\n",
    "    xs, us, f = gg.optimize(q, v, sim_t, v_des, w_des)\n",
    "#     gg.plot(q, v)\n",
    "    for ind in range(len(xs)):\n",
    "        viz.display(xs[ind][:robot.model.nq])\n",
    "        time.sleep(0.005)\n",
    "\n",
    "    q = xs[int(plan_freq/sim_dt)-1][0:pin_robot.model.nq]\n",
    "    v = xs[int(plan_freq/sim_dt)-1][pin_robot.model.nq:]\n",
    "    sim_t += plan_freq"
   ]
  },
  {
   "cell_type": "code",
   "execution_count": 8,
   "id": "da33705e",
   "metadata": {},
   "outputs": [
    {
     "data": {
      "text/plain": [
       "Nb joints = 31 (nq=36,nv=35)\n",
       "  Joint 0 universe: parent=0\n",
       "  Joint 1 root_joint: parent=0\n",
       "  Joint 2 back_bkz: parent=1\n",
       "  Joint 3 back_bky: parent=2\n",
       "  Joint 4 back_bkx: parent=3\n",
       "  Joint 5 l_arm_shz: parent=4\n",
       "  Joint 6 l_arm_shx: parent=5\n",
       "  Joint 7 l_arm_ely: parent=6\n",
       "  Joint 8 l_arm_elx: parent=7\n",
       "  Joint 9 l_arm_wry: parent=8\n",
       "  Joint 10 l_arm_wrx: parent=9\n",
       "  Joint 11 l_arm_wry2: parent=10\n",
       "  Joint 12 r_arm_shz: parent=4\n",
       "  Joint 13 r_arm_shx: parent=12\n",
       "  Joint 14 r_arm_ely: parent=13\n",
       "  Joint 15 r_arm_elx: parent=14\n",
       "  Joint 16 r_arm_wry: parent=15\n",
       "  Joint 17 r_arm_wrx: parent=16\n",
       "  Joint 18 r_arm_wry2: parent=17\n",
       "  Joint 19 l_leg_hpz: parent=1\n",
       "  Joint 20 l_leg_hpx: parent=19\n",
       "  Joint 21 l_leg_hpy: parent=20\n",
       "  Joint 22 l_leg_kny: parent=21\n",
       "  Joint 23 l_leg_aky: parent=22\n",
       "  Joint 24 l_leg_akx: parent=23\n",
       "  Joint 25 r_leg_hpz: parent=1\n",
       "  Joint 26 r_leg_hpx: parent=25\n",
       "  Joint 27 r_leg_hpy: parent=26\n",
       "  Joint 28 r_leg_kny: parent=27\n",
       "  Joint 29 r_leg_aky: parent=28\n",
       "  Joint 30 r_leg_akx: parent=29"
      ]
     },
     "execution_count": 8,
     "metadata": {},
     "output_type": "execute_result"
    }
   ],
   "source": [
    "rmodel"
   ]
  },
  {
   "cell_type": "code",
   "execution_count": 31,
   "id": "8f096527",
   "metadata": {},
   "outputs": [
    {
     "data": {
      "text/plain": [
       "29"
      ]
     },
     "execution_count": 31,
     "metadata": {},
     "output_type": "execute_result"
    }
   ],
   "source": [
    "q0.shape[0] - 7"
   ]
  }
 ],
 "metadata": {
  "kernelspec": {
   "display_name": "Python 3 (ipykernel)",
   "language": "python",
   "name": "python3"
  },
  "language_info": {
   "codemirror_mode": {
    "name": "ipython",
    "version": 3
   },
   "file_extension": ".py",
   "mimetype": "text/x-python",
   "name": "python",
   "nbconvert_exporter": "python",
   "pygments_lexer": "ipython3",
   "version": "3.8.10"
  }
 },
 "nbformat": 4,
 "nbformat_minor": 5
}

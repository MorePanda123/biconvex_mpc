{
 "cells": [
  {
   "cell_type": "code",
   "execution_count": 1,
   "id": "5ede2cc0",
   "metadata": {},
   "outputs": [
    {
     "name": "stderr",
     "output_type": "stream",
     "text": [
      "<frozen importlib._bootstrap>:219: RuntimeWarning: to-Python converter for boost::shared_ptr<hpp::fcl::CollisionGeometry> already registered; second conversion method ignored.\n"
     ]
    }
   ],
   "source": [
    "## This is a demo for atlas\n",
    "## Author : Avadesh Meduri\n",
    "## Date : 06/04/2022\n",
    "%load_ext autoreload\n",
    "%autoreload 2\n",
    "\n",
    "import time\n",
    "import numpy as np\n",
    "from mpc.abstract_cyclic_gen1 import AbstractGaitGen\n",
    "from robot_properties_atlas.config import AtlasConfig\n",
    "from py_biconvex_mpc.ik_utils.abstract_gait_generator import AbstractGaitGenerator\n",
    "\n",
    "from matplotlib import pyplot as plt\n",
    "\n",
    "import pinocchio as pin\n",
    "\n",
    "import numpy as np\n",
    "from motions.weight_abstract import BiconvexMotionParams\n",
    "from robot_properties_solo.config import Solo12Config"
   ]
  },
  {
   "cell_type": "code",
   "execution_count": 2,
   "id": "87d3ac86",
   "metadata": {},
   "outputs": [
    {
     "name": "stdout",
     "output_type": "stream",
     "text": [
      "You can open the visualizer by visiting the following URL:\n",
      "http://127.0.0.1:7000/static/\n"
     ]
    }
   ],
   "source": [
    "robot = AtlasConfig.buildRobotWrapper()\n",
    "rmodel = robot.model\n",
    "rdata = robot.data\n",
    "viz = pin.visualize.MeshcatVisualizer(robot.model, robot.collision_model, robot.visual_model)\n",
    "viz.initViewer(open=False)\n",
    "viz.loadViewerModel()"
   ]
  },
  {
   "cell_type": "code",
   "execution_count": 3,
   "id": "cbb58b11",
   "metadata": {},
   "outputs": [],
   "source": [
    "## robot config and init\n",
    "pin_robot = AtlasConfig.buildRobotWrapper()\n",
    "urdf_path = AtlasConfig.urdf_path\n",
    "\n",
    "n_eff = 10\n",
    "eff_names = [\"l_foot_lt\", \"l_foot_rt\", \"l_foot_lb\", \"l_foot_rb\", \"r_foot_lt\", \"r_foot_rt\", \"r_foot_lb\", \"r_foot_rb\"]\n",
    "hip_names = [\"l_leg_hpz\", \"l_leg_hpz\", \"l_leg_hpz\", \"l_leg_hpz\", \"r_leg_hpz\", \"r_leg_hpz\", \"r_leg_hpz\", \"r_leg_hpz\"]\n",
    "q0 = np.array(AtlasConfig.initial_configuration)\n",
    "q0[0:2] = 0.0\n",
    "\n",
    "v0 = pin.utils.zero(pin_robot.model.nv)\n",
    "x0 = np.concatenate([q0, pin.utils.zero(pin_robot.model.nv)])\n",
    "\n",
    "v_des = np.array([0.0,0.0,0.0])\n",
    "w_des = 0.0\n",
    "\n",
    "plan_freq = 0.05 # sec\n",
    "update_time = 0.0 # sec (time of lag)"
   ]
  },
  {
   "cell_type": "code",
   "execution_count": 4,
   "id": "32753a2b",
   "metadata": {},
   "outputs": [
    {
     "name": "stdout",
     "output_type": "stream",
     "text": [
      "robot_mass: 174.25030999999998\n"
     ]
    }
   ],
   "source": [
    "gg = AbstractGaitGen(urdf_path, eff_names, hip_names, x0, plan_freq, q0)"
   ]
  },
  {
   "cell_type": "code",
   "execution_count": 36,
   "id": "1dabb0ab",
   "metadata": {},
   "outputs": [],
   "source": [
    "#### walk #########################################\n",
    "walk = BiconvexMotionParams(\"atlas\", \"walk\")\n",
    "\n",
    "# Cnt\n",
    "walk.gait_period = 0.8\n",
    "walk.stance_percent = n_eff*[0.6,]\n",
    "walk.gait_dt = 0.05\n",
    "walk.phase_offset = int(0.5*n_eff)*[0.0,] + int(0.5*n_eff)*[0.5,] \n",
    "\n",
    "# IK\n",
    "walk.state_wt = np.array([1e2, 1e2, 1e2] + [1000] * 3 + [1.0] * (pin_robot.model.nv - 6) \\\n",
    "                         + [0.00] * 3 + [100] * 3 + [.1] *(pin_robot.model.nv - 6))\n",
    "\n",
    "walk.ctrl_wt = [0, 0, 1] + [1, 1, 1] + [5.0] *(rmodel.nv - 6)\n",
    "\n",
    "walk.swing_wt = [2e5, 4e5]\n",
    "walk.cent_wt = [0*5e+1, 0*1e+2]\n",
    "walk.step_ht = 0.1\n",
    "walk.nom_ht = 1.12\n",
    "walk.reg_wt = [5e-2, 1e-5]\n",
    "\n",
    "# Dyn\n",
    "walk.W_X =     np.array([5e0, 1e0, 1e+5, 1e-4, 1e-4, 2e0, 3e+0, 1e+0, 3e+0])\n",
    "walk.W_X_ter = 10.*np.array([5e0, 1e0, 1e+5, 1e-1, 1e-1, 2e2, 1e+1, 1e+1, 1e+1])\n",
    "walk.W_F = np.array(8*[1e1, 1e1, 1e1])\n",
    "walk.rho = 5e4\n",
    "\n",
    "walk.ori_correction = [0.0, 0.0, 0.0]\n",
    "walk.gait_horizon = 3\n",
    "\n",
    "# Gains\n",
    "walk.kp = 100.5\n",
    "walk.kd = 5.0"
   ]
  },
  {
   "cell_type": "code",
   "execution_count": 37,
   "id": "144b3629",
   "metadata": {
    "scrolled": false
   },
   "outputs": [
    {
     "name": "stdout",
     "output_type": "stream",
     "text": [
      "Initialized Kino-Dyn planner\n"
     ]
    }
   ],
   "source": [
    "gg.update_gait_params(walk, 0)"
   ]
  },
  {
   "cell_type": "code",
   "execution_count": 23,
   "id": "6ed88e8a",
   "metadata": {},
   "outputs": [
    {
     "data": {
      "text/html": [
       "\n",
       "            <div style=\"height: 400px; width: 100%; overflow-x: auto; overflow-y: hidden; resize: both\">\n",
       "            <iframe src=\"http://127.0.0.1:7000/static/\" style=\"width: 100%; height: 100%; border: none\"></iframe>\n",
       "            </div>\n",
       "            "
      ],
      "text/plain": [
       "<IPython.core.display.HTML object>"
      ]
     },
     "execution_count": 23,
     "metadata": {},
     "output_type": "execute_result"
    }
   ],
   "source": [
    "viz.viewer.jupyter_cell()"
   ]
  },
  {
   "cell_type": "code",
   "execution_count": 38,
   "id": "ccc55d7a",
   "metadata": {
    "scrolled": false
   },
   "outputs": [
    {
     "name": "stdout",
     "output_type": "stream",
     "text": [
      "max iters\n",
      "Maximum iterations reached \n",
      "Final norm: 1.98291\n"
     ]
    },
    {
     "ename": "IndexError",
     "evalue": "index 150 is out of bounds for axis 0 with size 150",
     "output_type": "error",
     "traceback": [
      "\u001b[0;31m---------------------------------------------------------------------------\u001b[0m",
      "\u001b[0;31mIndexError\u001b[0m                                Traceback (most recent call last)",
      "Input \u001b[0;32mIn [38]\u001b[0m, in \u001b[0;36m<cell line: 11>\u001b[0;34m()\u001b[0m\n\u001b[1;32m     12\u001b[0m xs, us, f \u001b[38;5;241m=\u001b[39m gg\u001b[38;5;241m.\u001b[39moptimize(q, v, sim_t, v_des, w_des)\n\u001b[1;32m     14\u001b[0m \u001b[38;5;28;01mfor\u001b[39;00m ind \u001b[38;5;129;01min\u001b[39;00m \u001b[38;5;28mrange\u001b[39m(\u001b[38;5;28mint\u001b[39m(plan_freq\u001b[38;5;241m/\u001b[39m(sim_dt))):\n\u001b[0;32m---> 15\u001b[0m     viz\u001b[38;5;241m.\u001b[39mdisplay(\u001b[43mxs\u001b[49m\u001b[43m[\u001b[49m\u001b[43mind\u001b[49m\u001b[43m]\u001b[49m[:robot\u001b[38;5;241m.\u001b[39mmodel\u001b[38;5;241m.\u001b[39mnq])\n\u001b[1;32m     16\u001b[0m     time\u001b[38;5;241m.\u001b[39msleep(\u001b[38;5;241m0.005\u001b[39m)\n\u001b[1;32m     18\u001b[0m q \u001b[38;5;241m=\u001b[39m xs[\u001b[38;5;28mint\u001b[39m(plan_freq\u001b[38;5;241m/\u001b[39msim_dt)\u001b[38;5;241m-\u001b[39m\u001b[38;5;241m1\u001b[39m][\u001b[38;5;241m0\u001b[39m:pin_robot\u001b[38;5;241m.\u001b[39mmodel\u001b[38;5;241m.\u001b[39mnq]\n",
      "\u001b[0;31mIndexError\u001b[0m: index 150 is out of bounds for axis 0 with size 150"
     ]
    }
   ],
   "source": [
    "sim_t = 0.0\n",
    "sim_dt = 0.05\n",
    "index = 0\n",
    "pln_ctr = 0\n",
    "plan_freq = 15.0 # sec\n",
    "update_time = 0.0 # sec (time of lag)\n",
    "q = q0\n",
    "v = v0\n",
    "\n",
    "\n",
    "for o in range(1):\n",
    "    xs, us, f = gg.optimize(q, v, sim_t, v_des, w_des)\n",
    "\n",
    "    for ind in range(int(plan_freq/(sim_dt))):\n",
    "        viz.display(xs[ind][:robot.model.nq])\n",
    "        time.sleep(0.005)\n",
    "\n",
    "    q = xs[int(plan_freq/sim_dt)-1][0:pin_robot.model.nq]\n",
    "    v = xs[int(plan_freq/sim_dt)-1][pin_robot.model.nq:]\n",
    "    sim_t += plan_freq"
   ]
  }
 ],
 "metadata": {
  "kernelspec": {
   "display_name": "Python 3 (ipykernel)",
   "language": "python",
   "name": "python3"
  },
  "language_info": {
   "codemirror_mode": {
    "name": "ipython",
    "version": 3
   },
   "file_extension": ".py",
   "mimetype": "text/x-python",
   "name": "python",
   "nbconvert_exporter": "python",
   "pygments_lexer": "ipython3",
   "version": "3.8.10"
  }
 },
 "nbformat": 4,
 "nbformat_minor": 5
}
